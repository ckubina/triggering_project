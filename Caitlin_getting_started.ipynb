{
 "cells": [
  {
   "cell_type": "markdown",
   "metadata": {},
   "source": [
    "# Example script for i3 files\n",
    "\n",
    "This is intended to be a short example for how to loop over \n",
    "an icecube i3 file with icetray's python interface. Here, I'll\n",
    "be looping through a single file to get the times for each hit\n",
    "in the simulation file as well as a flag for each hit to tell\n",
    "us whether each hit is from noise or some interesting physics\n",
    "interaction.\n",
    "\n",
    "This is intended as an example only. Feel free to made edits \n",
    "or work in this notebook if needed. If you get lost and need\n",
    "to work with some object you're not familiar with, remember\n",
    "that jupyter supports tab completion. If, for example, you're\n",
    "looking at an `I3RecoPulse` called `pulse`, you can do `pulse.[tab]`\n",
    "and see a list of possible functions and attributes.\n",
    "\n",
    "You can also use tab completion if you can't remember a function.\n",
    "Using `np.his[tab]` will show you all possible functions in numpy\n",
    "that being with the letters `his`, allowing you to find `hist2d`.\n",
    "\n",
    "If you have a function you don't know, you can ask jupyter for\n",
    "more information. For example, if you want to better understand\n",
    "the `numpy.save` function, run `np.save?` in a new cell to see\n",
    "the documentation.\n",
    "\n",
    "Don't be afraid to ask questions. Using new software is always\n",
    "difficult and you shouldn't worry about feeling lost. Not asking\n",
    "will just waste your time and no one will judge you for not knowing\n",
    "something. "
   ]
  },
  {
   "cell_type": "code",
   "execution_count": 4,
   "metadata": {},
   "outputs": [],
   "source": [
    "import numpy as np\n",
    "import time\n",
    "import glob\n",
    "from matplotlib import pyplot as plt\n",
    "from matplotlib.colors import LogNorm\n",
    "\n",
    "from icecube.dataio import I3File\n",
    "from icecube.icetray import I3Frame, I3Units\n",
    "from icecube.dataclasses import I3RecoPulse"
   ]
  },
  {
   "cell_type": "markdown",
   "metadata": {
    "tags": []
   },
   "source": [
    "## Pick the files you want to run\n",
    "Here I'll use a single file. You're going to want to use your own\n",
    "choice of input file, so this will be something to you need to change.\n",
    "\n",
    "Don't know what the path is to your file? In your terminal, find your \n",
    "file using `cd` and `ls`. Once you find what you want, type `echo $PWD/filename_that_you_want` to get the full path here. Copy that and\n",
    "paste it here inside of quotes.\n",
    "\n",
    "Later, you'll want to be able to loop over multiple files. For that,\n",
    "you'll want to use python's `glob.glob` function. There's documentation\n",
    "online if you use google, but the short version is (note the asterisk)\n",
    "\n",
    "> import glob\n",
    "> filelist = glob.glob(\"/home/icecube/icetray/data/gen2/NuMu*\")\n",
    "\n",
    " will give you a list of files from `/home/icecube/icetray/data/gen2/` \n",
    "that start with `NuMu`. Keep this in mind for later when you want to \n",
    "get more events."
   ]
  },
  {
   "cell_type": "code",
   "execution_count": 127,
   "metadata": {},
   "outputs": [],
   "source": [
    "filename = \"/i3store/users/gen2/22450/0000000-0000999/NuGen_NuMu_Gen2_LOM16_240m_6.i3.zst\""
   ]
  },
  {
   "cell_type": "markdown",
   "metadata": {},
   "source": [
    "## Example looping\n",
    "I'll loop over a single file here and pull out some information\n",
    "from the events. We'll be looking at `I3RecoPulse` objects here.\n",
    "\n",
    "This is the structure for running over a single file. Once you try\n",
    "to run over multiple types of files (like, say, files that have\n",
    "noise only vs noise+physics hits!), you'll want to generalize this\n",
    "by wrapping the whole thing in a function that you can pass a \n",
    "filename in and get lists (or arrays) back out. That way you won't\n",
    "need to have multiple copies of the same code, which becomes a bit\n",
    "of a pain to keep track of when changing code (and can cause problems\n",
    "that are hard to diagnose!). "
   ]
  },
  {
   "cell_type": "code",
   "execution_count": 37,
   "metadata": {},
   "outputs": [],
   "source": [
    "def get_data(glob_thing, count):\n",
    "    frame_number = 0\n",
    "    event = []\n",
    "    energy=[]\n",
    "    string = []\n",
    "    module = []\n",
    "    pmt = []\n",
    "    times = []\n",
    "\n",
    "    #---------------------------------------\n",
    "    # Open the file\n",
    "    #---------------------------------------\n",
    "    for filename in glob_thing:\n",
    "        i3file = I3File(filename)\n",
    "        for frame in i3file:\n",
    "            if frame.Stop != I3Frame.DAQ: continue\n",
    "            \n",
    "            # if frame_number>500:\n",
    "            #     continue\n",
    "            if (frame_number%count)==0:\n",
    "                print(frame_number)\n",
    "        \n",
    "            frame_number += 1\n",
    "\n",
    "            #---------------------------------------\n",
    "            # Get the hits out from the i3 file\n",
    "            #---------------------------------------\n",
    "            pulses_map = frame['I3RecoPulseSeriesMapGen2']\n",
    "    \n",
    "            #---------------------------------------\n",
    "            # And now pull information out to our\n",
    "            # output lists\n",
    "            #---------------------------------------\n",
    "            \n",
    "            #energy_number=frame['I3MCWeightDict']['PrimaryNeutrinoEnergy']\n",
    "            \n",
    "            for pmtkey, pulse_list in pulses_map:\n",
    "                for pulse in pulse_list:\n",
    "                    #---------------------------------------\n",
    "                    # Store which event we're looking at over and over again so we know which pulses correlate to which events...this will take 1500 years\n",
    "                    #---------------------------------------\n",
    "                    \n",
    "                    #energy.append(energy_number)\n",
    "                    event.append(frame_number)\n",
    "                    string.append(pmtkey.string)\n",
    "                    module.append(pmtkey.om)\n",
    "                    pmt.append(pmtkey.pmt)\n",
    "            \n",
    "                    # Times are special: they're measured relative to the particle interaction. In order to make\n",
    "                    # sure we don't have overlaps in our times, we'll shift the actual times we're writing out based\n",
    "                    # on the event number.\n",
    "                    times.append(pulse.time + frame_number*1e6)\n",
    "            \n",
    "    #---------------------------------------\n",
    "    # Let's convert these to numpy arrays even though I'm gonna smush them into one numpy array later to make it easier to index things because\n",
    "    # I think maybe when I smush it it keeps the dtype=int from here which would make it faster instead of making everything a float, but it might be a waste of code:).\n",
    "    #---------------------------------------\n",
    "    #energy=np.array(energy, dtype=float)\n",
    "    event = np.array(event, dtype=int)\n",
    "    string = np.array(string, dtype=int)\n",
    "    module = np.array(module, dtype=int)\n",
    "    pmt = np.array(pmt, dtype=int)\n",
    "    times = np.array(times, dtype=float)\n",
    "\n",
    "    length=len(string)    \n",
    "    arr=np.dstack((event, string, module, pmt, times))\n",
    "    return arr, length\n"
   ]
  },
  {
   "cell_type": "code",
   "execution_count": 217,
   "metadata": {
    "tags": []
   },
   "outputs": [
    {
     "name": "stdout",
     "output_type": "stream",
     "text": [
      "1000\n",
      "2000\n",
      "3000\n",
      "4000\n",
      "5000\n",
      "6000\n",
      "7000\n",
      "8000\n",
      "9000\n",
      "10000\n",
      "11000\n",
      "12000\n",
      "13000\n",
      "14000\n",
      "15000\n",
      "16000\n",
      "17000\n",
      "18000\n",
      "19000\n",
      "20000\n",
      "21000\n",
      "22000\n",
      "23000\n",
      "24000\n",
      "25000\n",
      "Length of physics array=83798215\n"
     ]
    }
   ],
   "source": [
    "physics_glob=glob.glob('/i3store/users/gen2/22450/0000000-0000999/NuGen*')\n",
    "physics_array, physics_length=get_data(physics_glob, 1000)\n",
    "print(\"Length of physics array=\" + str(physics_length))"
   ]
  },
  {
   "cell_type": "code",
   "execution_count": 1013,
   "metadata": {
    "collapsed": true,
    "jupyter": {
     "outputs_hidden": true
    },
    "tags": []
   },
   "outputs": [
    {
     "name": "stdout",
     "output_type": "stream",
     "text": [
      "1\n",
      "2\n",
      "3\n",
      "4\n",
      "5\n",
      "6\n",
      "7\n",
      "8\n",
      "9\n",
      "10\n",
      "Length of noise array=81410615\n"
     ]
    }
   ],
   "source": [
    "noise_glob=glob.glob('/i3store/users/gen2/22449/0000000-0000999/RandomNoise*')\n",
    "noise_array, noise_length=get_data(noise_glob, 1)\n",
    "print(\"Length of noise array=\" + str(noise_length))"
   ]
  },
  {
   "cell_type": "code",
   "execution_count": 1047,
   "metadata": {},
   "outputs": [
    {
     "name": "stdout",
     "output_type": "stream",
     "text": [
      "[[1.00000000e+00 1.00100000e+03 1.00000000e+00 0.00000000e+00\n",
      "  1.38686509e+06]\n",
      " [1.00000000e+00 1.00100000e+03 1.00000000e+00 0.00000000e+00\n",
      "  7.62587787e+06]\n",
      " [1.00000000e+00 1.00100000e+03 1.00000000e+00 0.00000000e+00\n",
      "  7.62923905e+06]\n",
      " ...\n",
      " [1.00000000e+01 1.12000000e+03 8.00000000e+01 1.40000000e+01\n",
      "  9.49183417e+07]\n",
      " [1.00000000e+01 1.12000000e+03 8.00000000e+01 1.40000000e+01\n",
      "  9.58993431e+07]\n",
      " [1.00000000e+01 1.12000000e+03 8.00000000e+01 1.40000000e+01\n",
      "  9.59011561e+07]]\n"
     ]
    }
   ],
   "source": [
    "shape_noise=np.shape(noise_array)\n",
    "new_shape_noise=np.delete(shape_noise,0)\n",
    "better_event_noise=np.reshape(noise_array,new_shape_noise)\n",
    "#better_event_noise=np.delete(better_event_noise, 3, axis=1)\n",
    "print(better_event_noise)"
   ]
  },
  {
   "cell_type": "code",
   "execution_count": 1015,
   "metadata": {
    "collapsed": true,
    "jupyter": {
     "outputs_hidden": true
    },
    "tags": []
   },
   "outputs": [
    {
     "name": "stdout",
     "output_type": "stream",
     "text": [
      "5000000\n",
      "10000000\n",
      "15000000\n",
      "20000000\n",
      "25000000\n",
      "30000000\n",
      "35000000\n",
      "40000000\n",
      "45000000\n",
      "50000000\n",
      "55000000\n",
      "60000000\n",
      "65000000\n",
      "70000000\n",
      "75000000\n",
      "80000000\n"
     ]
    }
   ],
   "source": [
    "time=[]\n",
    "first_index=0\n",
    "last_index=0\n",
    "previous_event=1\n",
    "previous_string=1001\n",
    "previous_dom=1\n",
    "previous_pmt=0\n",
    "count=0\n",
    "\n",
    "for current_index, row in enumerate(better_event_noise):\n",
    "    count+=1\n",
    "    if count%5000000==0:\n",
    "            print(count)\n",
    "    \n",
    "    if  previous_dom!=row[2] or previous_string!=row[1] or previous_event!=row[0]:  #now on a new dom, so sort the last list and replace it for last DOM\n",
    "        last_index=current_index\n",
    "        time.sort()\n",
    "        better_event_noise[first_index:last_index,3]=time\n",
    "        \n",
    "        time=[]\n",
    "        first_index=current_index\n",
    "\n",
    "        previous_dom=row[2]\n",
    "        previous_string=row[1]\n",
    "        previous_event=row[0]\n",
    "    \n",
    "    time.append(row[3])\n",
    "    "
   ]
  },
  {
   "cell_type": "code",
   "execution_count": 1068,
   "metadata": {},
   "outputs": [
    {
     "name": "stdout",
     "output_type": "stream",
     "text": [
      "5000000\n",
      "10000000\n",
      "15000000\n",
      "20000000\n",
      "25000000\n",
      "30000000\n",
      "35000000\n",
      "40000000\n",
      "45000000\n",
      "50000000\n",
      "55000000\n",
      "60000000\n",
      "65000000\n",
      "70000000\n",
      "75000000\n",
      "80000000\n"
     ]
    }
   ],
   "source": [
    "noise_timing_array=timing(better_event_noise)"
   ]
  },
  {
   "cell_type": "code",
   "execution_count": 1194,
   "metadata": {
    "tags": []
   },
   "outputs": [
    {
     "name": "stdout",
     "output_type": "stream",
     "text": [
      "0\n"
     ]
    },
    {
     "ename": "KeyboardInterrupt",
     "evalue": "",
     "output_type": "error",
     "traceback": [
      "\u001b[0;31m---------------------------------------------------------------------------\u001b[0m",
      "\u001b[0;31mKeyboardInterrupt\u001b[0m                         Traceback (most recent call last)",
      "Cell \u001b[0;32mIn [1194], line 2\u001b[0m\n\u001b[1;32m      1\u001b[0m physics_glob\u001b[38;5;241m=\u001b[39mglob\u001b[38;5;241m.\u001b[39mglob(\u001b[38;5;124m'\u001b[39m\u001b[38;5;124m/i3store/users/gen2/22450/0000000-0000999/NuGen*\u001b[39m\u001b[38;5;124m'\u001b[39m)\n\u001b[0;32m----> 2\u001b[0m physics_array, physics_length\u001b[38;5;241m=\u001b[39m\u001b[43mget_data\u001b[49m\u001b[43m(\u001b[49m\u001b[43mphysics_glob\u001b[49m\u001b[43m,\u001b[49m\u001b[43m \u001b[49m\u001b[38;5;241;43m1000\u001b[39;49m\u001b[43m)\u001b[49m\n\u001b[1;32m      3\u001b[0m \u001b[38;5;28mprint\u001b[39m(\u001b[38;5;124m\"\u001b[39m\u001b[38;5;124mLength of physics array=\u001b[39m\u001b[38;5;124m\"\u001b[39m \u001b[38;5;241m+\u001b[39m \u001b[38;5;28mstr\u001b[39m(physics_length))\n",
      "Cell \u001b[0;32mIn [1193], line 14\u001b[0m, in \u001b[0;36mget_data\u001b[0;34m(glob_thing, count)\u001b[0m\n\u001b[1;32m     12\u001b[0m \u001b[38;5;28;01mfor\u001b[39;00m filename \u001b[38;5;129;01min\u001b[39;00m glob_thing:\n\u001b[1;32m     13\u001b[0m     i3file \u001b[38;5;241m=\u001b[39m I3File(filename)\n\u001b[0;32m---> 14\u001b[0m     \u001b[38;5;28;01mfor\u001b[39;00m frame \u001b[38;5;129;01min\u001b[39;00m i3file:\n\u001b[1;32m     15\u001b[0m         \u001b[38;5;28;01mif\u001b[39;00m frame\u001b[38;5;241m.\u001b[39mStop \u001b[38;5;241m!=\u001b[39m I3Frame\u001b[38;5;241m.\u001b[39mDAQ: \u001b[38;5;28;01mcontinue\u001b[39;00m\n\u001b[1;32m     17\u001b[0m         \u001b[38;5;28;01mif\u001b[39;00m frame_number\u001b[38;5;241m>\u001b[39m\u001b[38;5;241m500\u001b[39m:\n",
      "\u001b[0;31mKeyboardInterrupt\u001b[0m: "
     ]
    }
   ],
   "source": [
    "physics_glob=glob.glob('/i3store/users/gen2/22450/0000000-0000999/NuGen*')\n",
    "physics_array, physics_length=get_data(physics_glob, 1000)\n",
    "print(\"Length of physics array=\" + str(physics_length))"
   ]
  },
  {
   "cell_type": "code",
   "execution_count": 1065,
   "metadata": {
    "tags": []
   },
   "outputs": [
    {
     "name": "stdout",
     "output_type": "stream",
     "text": [
      "[[1.00000000e+00 1.00100000e+03 3.00000000e+00 3.00000000e+00\n",
      "  1.01283235e+06]\n",
      " [1.00000000e+00 1.00100000e+03 5.00000000e+00 1.30000000e+01\n",
      "  1.02503579e+06]\n",
      " [1.00000000e+00 1.00100000e+03 8.00000000e+00 0.00000000e+00\n",
      "  1.00206232e+06]\n",
      " ...\n",
      " [2.53160000e+04 1.12000000e+03 4.40000000e+01 6.00000000e+00\n",
      "  2.53160082e+10]\n",
      " [2.53160000e+04 1.12000000e+03 4.40000000e+01 6.00000000e+00\n",
      "  2.53160119e+10]\n",
      " [2.53160000e+04 1.12000000e+03 7.50000000e+01 8.00000000e+00\n",
      "  2.53160216e+10]]\n"
     ]
    }
   ],
   "source": [
    "shape_phys=np.shape(physics_array)\n",
    "new_shape_phys=np.delete(shape_phys,0)\n",
    "better_event_phys=np.reshape(physics_array,new_shape_phys)\n",
    "print(better_event_phys)"
   ]
  },
  {
   "cell_type": "code",
   "execution_count": 1056,
   "metadata": {
    "collapsed": true,
    "jupyter": {
     "outputs_hidden": true
    },
    "tags": []
   },
   "outputs": [
    {
     "name": "stdout",
     "output_type": "stream",
     "text": [
      "5000000\n",
      "10000000\n",
      "15000000\n",
      "20000000\n",
      "25000000\n",
      "30000000\n",
      "35000000\n",
      "40000000\n",
      "45000000\n",
      "50000000\n",
      "55000000\n",
      "60000000\n",
      "65000000\n",
      "70000000\n",
      "75000000\n",
      "80000000\n"
     ]
    }
   ],
   "source": [
    "time=[]\n",
    "first_index=0\n",
    "last_index=0\n",
    "previous_event=1\n",
    "previous_string=1001\n",
    "previous_dom=3\n",
    "previous_pmt=3\n",
    "count=0\n",
    "\n",
    "for current_index, row in enumerate(better_event_phys):\n",
    "    count+=1\n",
    "    if count%5000000==0:\n",
    "            print(count)\n",
    "    \n",
    "    if  previous_dom!=row[2] or previous_string!=row[1] or previous_event!=row[0]:  #now on a new pmt, so sort the last list and replace it for last DOM\n",
    "        last_index=current_index\n",
    "        time.sort()\n",
    "        better_event_phys[first_index:last_index,3]=time\n",
    "        \n",
    "        time=[]\n",
    "        first_index=current_index\n",
    "        \n",
    "        previous_pmt=row[3]\n",
    "        previous_dom=row[2]\n",
    "        previous_string=row[1]\n",
    "        previous_event=row[0]\n",
    "    \n",
    "    time.append(row[3])\n",
    "    \n",
    "    "
   ]
  },
  {
   "cell_type": "code",
   "execution_count": 1067,
   "metadata": {},
   "outputs": [
    {
     "name": "stdout",
     "output_type": "stream",
     "text": [
      "5000000\n",
      "10000000\n",
      "15000000\n",
      "20000000\n",
      "25000000\n",
      "30000000\n",
      "35000000\n",
      "40000000\n",
      "45000000\n",
      "50000000\n",
      "55000000\n",
      "60000000\n",
      "65000000\n",
      "70000000\n",
      "75000000\n",
      "80000000\n"
     ]
    }
   ],
   "source": [
    "phys_timing_array=timing(better_event_phys)"
   ]
  },
  {
   "cell_type": "code",
   "execution_count": 1066,
   "metadata": {
    "tags": []
   },
   "outputs": [],
   "source": [
    "def timing(array):\n",
    "    timing=[]\n",
    "    prev_event=None\n",
    "    prev_str=None\n",
    "    prev_mod=None\n",
    "    prev_pmt=None\n",
    "    count=0\n",
    "    for row in array:\n",
    "        count+=1\n",
    "        if count%5000000==0:\n",
    "            print(count)\n",
    "        \n",
    "        if (row[0]==prev_event and row[1]==prev_str and row[2]==prev_mod and row[3]==prev_pmt): #if it is on the same DOM\n",
    "            time_difference=row[4]-last_time\n",
    "            timing.append(time_difference)\n",
    "        else:\n",
    "            prev_event=row[0]\n",
    "            prev_str=row[1]\n",
    "            prev_mod=row[2]\n",
    "            prev_pmt=row[3]\n",
    "        \n",
    "        last_time=row[4]\n",
    "    return timing"
   ]
  },
  {
   "cell_type": "code",
   "execution_count": 1079,
   "metadata": {},
   "outputs": [
    {
     "data": {
      "image/png": "[encoded data removed]",
      "text/plain": [
       "<Figure size 640x480 with 1 Axes>"
      ]
     },
     "metadata": {},
     "output_type": "display_data"
    }
   ],
   "source": [
    "weight1=np.ones(len(phys_timing_array))/len(better_event_phys)\n",
    "weight2=np.ones(len(noise_timing_array))/len(better_event_noise)\n",
    "bins=range(0,201,10)\n",
    "counts_pmt, bin_pmt, patches_pmt=plt.hist([phys_timing_array, noise_timing_array], bins=bins, edgecolor='black', label=[\"Physics+Noise\", \"Noise\"],\n",
    "         weights=[weight1, weight2], cumulative=True)\n",
    "plt.title(\"Physics Events: Multiple Hits per PMT\")\n",
    "plt.xlabel(\"Nanoseconds between Hits on same PMT\")\n",
    "plt.ylabel(\"Number of PMTs\")\n",
    "plt.legend()\n",
    "plt.ylim(bottom=0)\n",
    "plt.xlim(right=200)\n",
    "\n",
    "plt.savefig(\"physics_PMT_timings.png\")\n",
    "\n",
    "plt.show()"
   ]
  },
  {
   "cell_type": "code",
   "execution_count": 1080,
   "metadata": {},
   "outputs": [],
   "source": [
    "y_physics=np.append(counts_pmt[0],0)\n",
    "x_noise=np.append(counts_pmt[1],0)"
   ]
  },
  {
   "cell_type": "code",
   "execution_count": 1081,
   "metadata": {},
   "outputs": [
    {
     "data": {
      "image/png": "[encoded data removed]",
      "text/plain": [
       "<Figure size 640x480 with 1 Axes>"
      ]
     },
     "metadata": {},
     "output_type": "display_data"
    }
   ],
   "source": [
    "plt.scatter(x_noise,y_physics)\n",
    "plt.xlabel(\"Noise\")\n",
    "plt.ylabel(\"Physics\")\n",
    "plt.title(\"ROC Plot for multiple hits on One PMT (10 ns spacing)\")\n",
    "plt.xlim(left=0)\n",
    "plt.ylim(bottom=0)\n",
    "\n",
    "plt.savefig(\"multiple_hit_ROC_plot_2.png\")\n",
    "plt.show()"
   ]
  },
  {
   "cell_type": "markdown",
   "metadata": {},
   "source": [
    "## Everything above this was kinda BS\n",
    "So here's the actual stuff used to determine how many PMTs should get hit before we start counting it\n",
    "\n",
    "I got arrays both with and without the energies included"
   ]
  },
  {
   "cell_type": "code",
   "execution_count": 1195,
   "metadata": {
    "tags": []
   },
   "outputs": [
    {
     "name": "stdout",
     "output_type": "stream",
     "text": [
      "0\n",
      "100\n",
      "200\n",
      "300\n",
      "400\n",
      "500\n"
     ]
    }
   ],
   "source": [
    "physics_file = glob.glob(\"/i3store/users/gen2/22450/0000000-0000999/NuGen_NuMu_Gen2_LOM16_240m_0.i3.zst\")\n",
    "mult_pmt_physics_event, length_physics =get_data(physics_file, count=100)"
   ]
  },
  {
   "cell_type": "code",
   "execution_count": 1418,
   "metadata": {},
   "outputs": [
    {
     "name": "stdout",
     "output_type": "stream",
     "text": [
      "0\n",
      "100\n",
      "200\n",
      "300\n",
      "400\n",
      "500\n"
     ]
    }
   ],
   "source": [
    "physics_file = glob.glob(\"/i3store/users/gen2/22450/0000000-0000999/NuGen_NuMu_Gen2_LOM16_240m_0.i3.zst\")\n",
    "energy_pmt_physics_event, length_physics =get_data(physics_file, count=100)"
   ]
  },
  {
   "cell_type": "markdown",
   "metadata": {},
   "source": [
    "I had to reshape the array because smushing everything together kinda fucked it up"
   ]
  },
  {
   "cell_type": "code",
   "execution_count": 23,
   "metadata": {},
   "outputs": [],
   "source": [
    "def reshape(array):\n",
    "    shape=np.shape(array)\n",
    "    new_shape=np.delete(shape,0)\n",
    "    reshaped_array=np.reshape(array, new_shape)\n",
    "    return reshaped_array"
   ]
  },
  {
   "cell_type": "code",
   "execution_count": 1421,
   "metadata": {},
   "outputs": [
    {
     "name": "stdout",
     "output_type": "stream",
     "text": [
      "[[9.97666802e+05 1.00000000e+00 1.00100000e+03 3.00000000e+00\n",
      "  3.00000000e+00 1.01283235e+06]\n",
      " [9.97666802e+05 1.00000000e+00 1.00100000e+03 5.00000000e+00\n",
      "  1.30000000e+01 1.02503579e+06]\n",
      " [9.97666802e+05 1.00000000e+00 1.00100000e+03 8.00000000e+00\n",
      "  0.00000000e+00 1.00206232e+06]\n",
      " ...\n",
      " [4.27263950e+02 5.01000000e+02 6.11200000e+04 1.10000000e+01\n",
      "  1.20000000e+01 5.01010256e+08]\n",
      " [4.27263950e+02 5.01000000e+02 6.11200000e+04 2.50000000e+01\n",
      "  9.00000000e+00 5.00996467e+08]\n",
      " [4.27263950e+02 5.01000000e+02 6.11200000e+04 3.80000000e+01\n",
      "  1.20000000e+01 5.00997505e+08]]\n"
     ]
    }
   ],
   "source": [
    "energy_pmt_phys=reshape(energy_pmt_physics_event)\n",
    "print(energy_pmt_phys)"
   ]
  },
  {
   "cell_type": "markdown",
   "metadata": {},
   "source": [
    "Set the energy range if there is any."
   ]
  },
  {
   "cell_type": "code",
   "execution_count": 1408,
   "metadata": {},
   "outputs": [],
   "source": [
    "def fix_energies(energy_pmt_phys, top_energy, bottom_energy):\n",
    "    number=[]\n",
    "    for index, row in enumerate(energy_pmt_phys):\n",
    "        if row[0]>top_energy or row[0]<bottom_energy:\n",
    "            number.append(index)\n",
    "    array=np.delete(energy_pmt_phys, number, axis=0)\n",
    "    return array"
   ]
  },
  {
   "cell_type": "code",
   "execution_count": null,
   "metadata": {},
   "outputs": [],
   "source": [
    "Tev_10_100_phys_array=fix_energies(energy_pmt_phys, 10000, 1000)"
   ]
  },
  {
   "cell_type": "code",
   "execution_count": 1416,
   "metadata": {},
   "outputs": [
    {
     "name": "stdout",
     "output_type": "stream",
     "text": [
      "1680467\n"
     ]
    }
   ],
   "source": [
    "number_of_hits=len(energy_pmt_phys)\n",
    "print(number_of_hits)\n"
   ]
  },
  {
   "cell_type": "markdown",
   "metadata": {},
   "source": [
    "Split the numpy array into a list of arrays by string, this can save processing time"
   ]
  },
  {
   "cell_type": "code",
   "execution_count": 1422,
   "metadata": {},
   "outputs": [],
   "source": [
    "def list_of_arrays_by_string(array, string_column, first_string):\n",
    "    strings_phys=array[:,string_column].tolist()\n",
    "    index=[]\n",
    "    sum_phys=0\n",
    "    last_string=first_string\n",
    "    for string in strings_phys:\n",
    "        if string!=last_string:\n",
    "            index.append(sum_phys) \n",
    "            last_string=string\n",
    "        sum_phys+=1\n",
    "    list_of_arrays=np.split(array, index)\n",
    "    return list_of_arrays"
   ]
  },
  {
   "cell_type": "code",
   "execution_count": 1426,
   "metadata": {},
   "outputs": [],
   "source": [
    "list_of_phys_arrays=list_of_arrays_by_string(energy_pmt_phys, 2, 1001)"
   ]
  },
  {
   "cell_type": "code",
   "execution_count": 1430,
   "metadata": {
    "collapsed": true,
    "jupyter": {
     "outputs_hidden": true
    },
    "tags": []
   },
   "outputs": [
    {
     "name": "stdout",
     "output_type": "stream",
     "text": [
      "[[9.97666802e+05 1.00000000e+00 1.00100000e+03 3.00000000e+00\n",
      "  3.00000000e+00 1.01283235e+06]\n",
      " [9.97666802e+05 1.00000000e+00 1.00100000e+03 5.00000000e+00\n",
      "  1.30000000e+01 1.02503579e+06]\n",
      " [9.97666802e+05 1.00000000e+00 1.00100000e+03 8.00000000e+00\n",
      "  0.00000000e+00 1.00206232e+06]\n",
      " [9.97666802e+05 1.00000000e+00 1.00100000e+03 8.00000000e+00\n",
      "  0.00000000e+00 1.00253621e+06]\n",
      " [9.97666802e+05 1.00000000e+00 1.00100000e+03 8.00000000e+00\n",
      "  0.00000000e+00 1.00277880e+06]\n",
      " [9.97666802e+05 1.00000000e+00 1.00100000e+03 8.00000000e+00\n",
      "  0.00000000e+00 1.00554934e+06]\n",
      " [9.97666802e+05 1.00000000e+00 1.00100000e+03 8.00000000e+00\n",
      "  0.00000000e+00 1.01014198e+06]\n",
      " [9.97666802e+05 1.00000000e+00 1.00100000e+03 8.00000000e+00\n",
      "  0.00000000e+00 1.01079912e+06]\n",
      " [9.97666802e+05 1.00000000e+00 1.00100000e+03 8.00000000e+00\n",
      "  0.00000000e+00 1.01754943e+06]\n",
      " [9.97666802e+05 1.00000000e+00 1.00100000e+03 1.20000000e+01\n",
      "  3.00000000e+00 1.00278082e+06]\n",
      " [9.97666802e+05 1.00000000e+00 1.00100000e+03 1.20000000e+01\n",
      "  3.00000000e+00 1.00834527e+06]\n",
      " [9.97666802e+05 1.00000000e+00 1.00100000e+03 1.20000000e+01\n",
      "  3.00000000e+00 1.00950632e+06]\n",
      " [9.97666802e+05 1.00000000e+00 1.00100000e+03 1.60000000e+01\n",
      "  1.30000000e+01 1.01997109e+06]\n",
      " [9.97666802e+05 1.00000000e+00 1.00100000e+03 4.20000000e+01\n",
      "  9.00000000e+00 1.00084263e+06]\n",
      " [9.97666802e+05 1.00000000e+00 1.00100000e+03 4.20000000e+01\n",
      "  9.00000000e+00 1.00085808e+06]\n",
      " [9.97666802e+05 1.00000000e+00 1.00100000e+03 4.20000000e+01\n",
      "  9.00000000e+00 1.00086646e+06]\n",
      " [9.97666802e+05 1.00000000e+00 1.00100000e+03 4.20000000e+01\n",
      "  9.00000000e+00 1.00088119e+06]\n",
      " [9.97666802e+05 1.00000000e+00 1.00100000e+03 4.20000000e+01\n",
      "  9.00000000e+00 1.00089026e+06]\n",
      " [9.97666802e+05 1.00000000e+00 1.00100000e+03 4.20000000e+01\n",
      "  9.00000000e+00 1.00090060e+06]\n",
      " [9.97666802e+05 1.00000000e+00 1.00100000e+03 4.20000000e+01\n",
      "  9.00000000e+00 1.00091394e+06]\n",
      " [9.97666802e+05 1.00000000e+00 1.00100000e+03 4.20000000e+01\n",
      "  9.00000000e+00 1.00092917e+06]\n",
      " [9.97666802e+05 1.00000000e+00 1.00100000e+03 4.20000000e+01\n",
      "  9.00000000e+00 1.00099372e+06]\n",
      " [9.97666802e+05 1.00000000e+00 1.00100000e+03 4.20000000e+01\n",
      "  9.00000000e+00 1.00109404e+06]\n",
      " [9.97666802e+05 1.00000000e+00 1.00100000e+03 4.20000000e+01\n",
      "  9.00000000e+00 1.00139509e+06]\n",
      " [9.97666802e+05 1.00000000e+00 1.00100000e+03 4.20000000e+01\n",
      "  9.00000000e+00 1.00180812e+06]\n",
      " [9.97666802e+05 1.00000000e+00 1.00100000e+03 4.20000000e+01\n",
      "  9.00000000e+00 1.00191765e+06]\n",
      " [9.97666802e+05 1.00000000e+00 1.00100000e+03 4.20000000e+01\n",
      "  9.00000000e+00 1.00699319e+06]\n",
      " [9.97666802e+05 1.00000000e+00 1.00100000e+03 4.20000000e+01\n",
      "  9.00000000e+00 1.00912971e+06]]\n"
     ]
    }
   ],
   "source": [
    "print(list_of_phys_arrays[0])"
   ]
  },
  {
   "cell_type": "code",
   "execution_count": 1431,
   "metadata": {},
   "outputs": [],
   "source": [
    "def sort_by_time(list_of_arrays, time_column):\n",
    "    for index1, array1 in enumerate(list_of_arrays):\n",
    "        list_of_arrays[index1]=sort_array_time(array1, time_column)"
   ]
  },
  {
   "cell_type": "code",
   "execution_count": 1432,
   "metadata": {},
   "outputs": [],
   "source": [
    "sort_by_time(list_of_phys_arrays, 5)"
   ]
  },
  {
   "cell_type": "code",
   "execution_count": 1441,
   "metadata": {
    "collapsed": true,
    "jupyter": {
     "outputs_hidden": true
    },
    "tags": []
   },
   "outputs": [
    {
     "name": "stdout",
     "output_type": "stream",
     "text": [
      "[[9.97666802e+05 1.00000000e+00 1.00100000e+03 4.20000000e+01\n",
      "  9.00000000e+00 1.00084263e+06]\n",
      " [9.97666802e+05 1.00000000e+00 1.00100000e+03 4.20000000e+01\n",
      "  9.00000000e+00 1.00085808e+06]\n",
      " [9.97666802e+05 1.00000000e+00 1.00100000e+03 4.20000000e+01\n",
      "  9.00000000e+00 1.00086646e+06]\n",
      " [9.97666802e+05 1.00000000e+00 1.00100000e+03 4.20000000e+01\n",
      "  9.00000000e+00 1.00088119e+06]\n",
      " [9.97666802e+05 1.00000000e+00 1.00100000e+03 4.20000000e+01\n",
      "  9.00000000e+00 1.00089026e+06]\n",
      " [9.97666802e+05 1.00000000e+00 1.00100000e+03 4.20000000e+01\n",
      "  9.00000000e+00 1.00090060e+06]\n",
      " [9.97666802e+05 1.00000000e+00 1.00100000e+03 4.20000000e+01\n",
      "  9.00000000e+00 1.00091394e+06]\n",
      " [9.97666802e+05 1.00000000e+00 1.00100000e+03 4.20000000e+01\n",
      "  9.00000000e+00 1.00092917e+06]\n",
      " [9.97666802e+05 1.00000000e+00 1.00100000e+03 4.20000000e+01\n",
      "  9.00000000e+00 1.00099372e+06]\n",
      " [9.97666802e+05 1.00000000e+00 1.00100000e+03 4.20000000e+01\n",
      "  9.00000000e+00 1.00109404e+06]\n",
      " [9.97666802e+05 1.00000000e+00 1.00100000e+03 4.20000000e+01\n",
      "  9.00000000e+00 1.00139509e+06]\n",
      " [9.97666802e+05 1.00000000e+00 1.00100000e+03 4.20000000e+01\n",
      "  9.00000000e+00 1.00180812e+06]\n",
      " [9.97666802e+05 1.00000000e+00 1.00100000e+03 4.20000000e+01\n",
      "  9.00000000e+00 1.00191765e+06]\n",
      " [9.97666802e+05 1.00000000e+00 1.00100000e+03 8.00000000e+00\n",
      "  0.00000000e+00 1.00206232e+06]\n",
      " [9.97666802e+05 1.00000000e+00 1.00100000e+03 8.00000000e+00\n",
      "  0.00000000e+00 1.00253621e+06]\n",
      " [9.97666802e+05 1.00000000e+00 1.00100000e+03 8.00000000e+00\n",
      "  0.00000000e+00 1.00277880e+06]\n",
      " [9.97666802e+05 1.00000000e+00 1.00100000e+03 1.20000000e+01\n",
      "  3.00000000e+00 1.00278082e+06]\n",
      " [9.97666802e+05 1.00000000e+00 1.00100000e+03 8.00000000e+00\n",
      "  0.00000000e+00 1.00554934e+06]\n",
      " [9.97666802e+05 1.00000000e+00 1.00100000e+03 4.20000000e+01\n",
      "  9.00000000e+00 1.00699319e+06]\n",
      " [9.97666802e+05 1.00000000e+00 1.00100000e+03 1.20000000e+01\n",
      "  3.00000000e+00 1.00834527e+06]\n",
      " [9.97666802e+05 1.00000000e+00 1.00100000e+03 4.20000000e+01\n",
      "  9.00000000e+00 1.00912971e+06]\n",
      " [9.97666802e+05 1.00000000e+00 1.00100000e+03 1.20000000e+01\n",
      "  3.00000000e+00 1.00950632e+06]\n",
      " [9.97666802e+05 1.00000000e+00 1.00100000e+03 8.00000000e+00\n",
      "  0.00000000e+00 1.01014198e+06]\n",
      " [9.97666802e+05 1.00000000e+00 1.00100000e+03 8.00000000e+00\n",
      "  0.00000000e+00 1.01079912e+06]\n",
      " [9.97666802e+05 1.00000000e+00 1.00100000e+03 3.00000000e+00\n",
      "  3.00000000e+00 1.01283235e+06]\n",
      " [9.97666802e+05 1.00000000e+00 1.00100000e+03 8.00000000e+00\n",
      "  0.00000000e+00 1.01754943e+06]\n",
      " [9.97666802e+05 1.00000000e+00 1.00100000e+03 1.60000000e+01\n",
      "  1.30000000e+01 1.01997109e+06]\n",
      " [9.97666802e+05 1.00000000e+00 1.00100000e+03 5.00000000e+00\n",
      "  1.30000000e+01 1.02503579e+06]]\n"
     ]
    }
   ],
   "source": [
    "array=list_of_phys_arrays[0]\n",
    "print(array)"
   ]
  },
  {
   "cell_type": "markdown",
   "metadata": {},
   "source": [
    "Now that we've set everything up, we can actually find the distribution"
   ]
  },
  {
   "cell_type": "code",
   "execution_count": null,
   "metadata": {
    "tags": []
   },
   "outputs": [],
   "source": [
    "def hit_distribution(list_of_arrays, nanoseconds):\n",
    "    list_distribution=[]\n",
    "    count=0\n",
    "    \n",
    "    for array in list_of_arrays:\n",
    "        #tracking\n",
    "        count+=1\n",
    "        if count%10000==0:\n",
    "            print(count)\n",
    "            \n",
    "        #Make other array\n",
    "        array2=array\n",
    "        for pulse in array:\n",
    "            temp=[]\n",
    "            pmt_count=0\n",
    "            array2=np.delete(array2, 0, axis=0)\n",
    "            \n",
    "            #Loop through until the nanoseconds are exceeded\n",
    "            i=0\n",
    "            while i<len(array2) and (array2[i,5]-pulse[5])<nanoseconds:\n",
    "                #If DOMS are the same and PMTs are different, count it\n",
    "                if pulse[3]==array2[i,3]:\n",
    "                    if (pulse[4]!=array2[i,4]) and (array2[i,4] not in temp):\n",
    "                        pmt_count+=1\n",
    "                        temp.append(array2[i,4])\n",
    "                i+=1\n",
    "            #no in the time window, append the number of pmts that counted\n",
    "            list_distribution.append(pmt_count)\n",
    "    return list_distribution"
   ]
  },
  {
   "cell_type": "code",
   "execution_count": 1354,
   "metadata": {
    "tags": []
   },
   "outputs": [
    {
     "name": "stdout",
     "output_type": "stream",
     "text": [
      "10000\n",
      "10000\n",
      "10000\n"
     ]
    }
   ],
   "source": [
    "phys_energy_10_100_pmt_100=hit_distribution(list_of_phys_arrays,100)\n",
    "phys_energy_10_100_pmt_1000=hit_distribution(list_of_phys_arrays,1000)\n",
    "phys_energy_10_100_pmt_10000=hit_distribution(list_of_phys_arrays,10000)"
   ]
  },
  {
   "cell_type": "code",
   "execution_count": 2,
   "metadata": {},
   "outputs": [],
   "source": [
    "def percentage_hit(list_of_arrays, nanoseconds, dom_column, pmt_column, time_column, dom_limit, pmt_hits, total_hits):\n",
    "    count=0\n",
    "    hits=[]\n",
    "    \n",
    "    for event in list_of_arrays:\n",
    "        #tracking\n",
    "        count+=1\n",
    "        if count%10000==0:\n",
    "            print(count)\n",
    "            \n",
    "        #Make other array\n",
    "        for string in event:\n",
    "            string2=string\n",
    "            for pulse in string:\n",
    "                temp=[]\n",
    "                other_pmt_count=0\n",
    "                #this other array will contain all pulses on the same string after this one\n",
    "                string2=np.delete(string2, 0, axis=0)\n",
    "            \n",
    "                #Loop through until nanoseconds are exceeded\n",
    "                i=0\n",
    "                while i<len(array2) and (array2[i,time_column]-pulse[time_column])<nanoseconds:\n",
    "                    #If DOMS are the same and PMTs are different\n",
    "                    if pulse[dom_column]==array2[i,dom_column]:\n",
    "                        if (pulse[pmt_column]!=array2[i,pmt_column]) and (array2[i,pmt_column] not in temp):\n",
    "                            #count how many \"other\" pmts are hit\n",
    "                            other_pmt_count+=1\n",
    "                            temp.append(array2[i,pmt_column])\n",
    "                        \n",
    "                            #if other pmts hit is equal to 2, mark the pulse as a hit and stop going through the while loop\n",
    "                            if other_pmt_count==pmt_hits:\n",
    "                                hit+=1\n",
    "                                break\n",
    "\n",
    "                    #If DOMS are different but 2 or less away,\n",
    "                    if abs(pulse[dom_column]-array2[i,dom_column])<=dom_limit and pulse[dom_column]!=array2[i,dom_column]:\n",
    "                        #count it as a hit, and stop going through the while loop\n",
    "                        hit+=1\n",
    "                        break\n",
    "                    \n",
    "                    \n",
    "                    #increment the while loop                \n",
    "                    i+=1\n",
    "    return hit/total_hits"
   ]
  },
  {
   "cell_type": "code",
   "execution_count": 1507,
   "metadata": {},
   "outputs": [
    {
     "name": "stdout",
     "output_type": "stream",
     "text": [
      "1680467\n"
     ]
    }
   ],
   "source": [
    "print(number_of_hits)\n",
    "1678606"
   ]
  },
  {
   "cell_type": "code",
   "execution_count": 1510,
   "metadata": {},
   "outputs": [
    {
     "name": "stdout",
     "output_type": "stream",
     "text": [
      "10000\n",
      "20000\n",
      "30000\n",
      "40000\n",
      "50000\n"
     ]
    }
   ],
   "source": [
    "percent_hit_check_dom=percentage_hit(list_of_phys_arrays, nanoseconds=1000, dom_column=3, pmt_column=4, time_column=5, dom_limit=2, pmt_hits=2, total_hits=number_of_hits)"
   ]
  },
  {
   "cell_type": "code",
   "execution_count": 1515,
   "metadata": {},
   "outputs": [
    {
     "name": "stdout",
     "output_type": "stream",
     "text": [
      "0.3938119582235176\n"
     ]
    }
   ],
   "source": [
    "print(percent_hit_check_dom)"
   ]
  },
  {
   "cell_type": "code",
   "execution_count": 1473,
   "metadata": {},
   "outputs": [
    {
     "name": "stdout",
     "output_type": "stream",
     "text": [
      "10000\n",
      "20000\n",
      "30000\n",
      "40000\n",
      "50000\n"
     ]
    }
   ],
   "source": [
    "physics_percent_hit_2=percentage_hit(list_of_phys_arrays, nanoseconds=1000, dom_column=3, pmt_column=4, time_column=5, dom_limit=2, pmt_hits=2, total_hits=number_of_hits)"
   ]
  },
  {
   "cell_type": "code",
   "execution_count": 1474,
   "metadata": {},
   "outputs": [
    {
     "name": "stdout",
     "output_type": "stream",
     "text": [
      "0.40018102110901316\n"
     ]
    }
   ],
   "source": [
    "print(physics_percent_hit_2)"
   ]
  },
  {
   "cell_type": "code",
   "execution_count": 1480,
   "metadata": {},
   "outputs": [
    {
     "name": "stdout",
     "output_type": "stream",
     "text": [
      "10000\n",
      "20000\n",
      "30000\n",
      "40000\n",
      "50000\n",
      "0.45867904576525453\n"
     ]
    }
   ],
   "source": [
    "physics_percent_hit_1=percentage_hit(list_of_phys_arrays, nanoseconds=1000, dom_column=3, pmt_column=4, time_column=5, dom_limit=2, pmt_hits=1, total_hits=number_of_hits)\n",
    "print(physics_percent_hit_1)"
   ]
  },
  {
   "cell_type": "code",
   "execution_count": null,
   "metadata": {},
   "outputs": [
    {
     "name": "stdout",
     "output_type": "stream",
     "text": [
      "0\n",
      "Length of noise array=8092524\n"
     ]
    }
   ],
   "source": [
    "noise_glob=glob.glob(\"/i3store/users/gen2/22449/0000000-0000999/RandomNoise_Gen2_LOM16_240m_0.i3.zst\")\n",
    "noise_array, noise_length=get_data(noise_glob, 1)\n",
    "print(\"Length of noise array=\" + str(noise_length))"
   ]
  },
  {
   "cell_type": "code",
   "execution_count": 1462,
   "metadata": {
    "tags": []
   },
   "outputs": [
    {
     "name": "stdout",
     "output_type": "stream",
     "text": [
      "[[1.00000000e+00 1.00100000e+03 1.00000000e+00 0.00000000e+00\n",
      "  1.38686509e+06]\n",
      " [1.00000000e+00 1.00100000e+03 1.00000000e+00 0.00000000e+00\n",
      "  7.62587787e+06]\n",
      " [1.00000000e+00 1.00100000e+03 1.00000000e+00 0.00000000e+00\n",
      "  7.62923905e+06]\n",
      " ...\n",
      " [1.00000000e+00 1.12000000e+03 8.00000000e+01 1.40000000e+01\n",
      "  8.67551347e+07]\n",
      " [1.00000000e+00 1.12000000e+03 8.00000000e+01 1.40000000e+01\n",
      "  9.20034704e+07]\n",
      " [1.00000000e+00 1.12000000e+03 8.00000000e+01 1.40000000e+01\n",
      "  9.55370445e+07]]\n"
     ]
    }
   ],
   "source": [
    "noise_array=reshape(noise_array)\n",
    "print(noise_array)"
   ]
  },
  {
   "cell_type": "code",
   "execution_count": 1463,
   "metadata": {},
   "outputs": [],
   "source": [
    "list_of_noise_arrays=list_of_arrays_by_string(noise_array, 1, 1001)"
   ]
  },
  {
   "cell_type": "code",
   "execution_count": 1466,
   "metadata": {
    "collapsed": true,
    "jupyter": {
     "outputs_hidden": true
    },
    "tags": []
   },
   "outputs": [
    {
     "name": "stdout",
     "output_type": "stream",
     "text": [
      "[[1.00000000e+00 1.12000000e+03 1.00000000e+00 0.00000000e+00\n",
      "  4.79310258e+06]\n",
      " [1.00000000e+00 1.12000000e+03 1.00000000e+00 0.00000000e+00\n",
      "  4.79310768e+06]\n",
      " [1.00000000e+00 1.12000000e+03 1.00000000e+00 0.00000000e+00\n",
      "  4.79315441e+06]\n",
      " ...\n",
      " [1.00000000e+00 1.12000000e+03 8.00000000e+01 1.40000000e+01\n",
      "  8.67551347e+07]\n",
      " [1.00000000e+00 1.12000000e+03 8.00000000e+01 1.40000000e+01\n",
      "  9.20034704e+07]\n",
      " [1.00000000e+00 1.12000000e+03 8.00000000e+01 1.40000000e+01\n",
      "  9.55370445e+07]]\n"
     ]
    }
   ],
   "source": [
    "print(list_of_noise_arrays[119])"
   ]
  },
  {
   "cell_type": "code",
   "execution_count": 1467,
   "metadata": {},
   "outputs": [],
   "source": [
    "sort_by_time(list_of_noise_arrays, 4)"
   ]
  },
  {
   "cell_type": "code",
   "execution_count": 1468,
   "metadata": {
    "collapsed": true,
    "jupyter": {
     "outputs_hidden": true
    },
    "tags": []
   },
   "outputs": [
    {
     "name": "stdout",
     "output_type": "stream",
     "text": [
      "[[1.00000000e+00 1.12000000e+03 4.50000000e+01 1.30000000e+01\n",
      "  8.38904618e+05]\n",
      " [1.00000000e+00 1.12000000e+03 1.10000000e+01 8.00000000e+00\n",
      "  8.40098784e+05]\n",
      " [1.00000000e+00 1.12000000e+03 1.10000000e+01 6.00000000e+00\n",
      "  8.40152697e+05]\n",
      " ...\n",
      " [1.00000000e+00 1.12000000e+03 4.60000000e+01 6.00000000e+00\n",
      "  1.00808119e+08]\n",
      " [1.00000000e+00 1.12000000e+03 3.00000000e+01 1.00000000e+01\n",
      "  1.00811838e+08]\n",
      " [1.00000000e+00 1.12000000e+03 1.50000000e+01 4.00000000e+00\n",
      "  1.00827478e+08]]\n"
     ]
    }
   ],
   "source": [
    "print(list_of_noise_arrays[119])"
   ]
  },
  {
   "cell_type": "code",
   "execution_count": 1477,
   "metadata": {},
   "outputs": [
    {
     "name": "stdout",
     "output_type": "stream",
     "text": [
      "10\n",
      "20\n",
      "30\n",
      "40\n",
      "50\n",
      "60\n",
      "70\n",
      "80\n",
      "90\n",
      "100\n",
      "110\n",
      "120\n",
      "0.033040000869938725\n"
     ]
    }
   ],
   "source": [
    "noise_percent_hit_2=percentage_hit(list_of_noise_arrays, nanoseconds=1000, dom_column=2, pmt_column=3, time_column=4, dom_limit=2, pmt_hits=2, total_hits=noise_length)\n",
    "print(noise_percent_hit_2)"
   ]
  },
  {
   "cell_type": "code",
   "execution_count": 1506,
   "metadata": {},
   "outputs": [
    {
     "name": "stdout",
     "output_type": "stream",
     "text": [
      "10\n",
      "20\n",
      "30\n",
      "40\n",
      "50\n",
      "60\n",
      "70\n",
      "80\n",
      "90\n",
      "100\n",
      "110\n",
      "120\n",
      "0.12989470281459778\n"
     ]
    }
   ],
   "source": [
    "noise_percent_hit_1=percentage_hit(list_of_noise_arrays, nanoseconds=1000, dom_column=2, pmt_column=3, time_column=4, dom_limit=2, pmt_hits=1, total_hits=noise_length)\n",
    "print(noise_percent_hit_1)"
   ]
  },
  {
   "cell_type": "code",
   "execution_count": 1503,
   "metadata": {},
   "outputs": [
    {
     "name": "stdout",
     "output_type": "stream",
     "text": [
      "0.12989470281459778\n"
     ]
    }
   ],
   "source": [
    "print(noise_percent_hit_1)"
   ]
  },
  {
   "cell_type": "code",
   "execution_count": 1256,
   "metadata": {
    "tags": []
   },
   "outputs": [
    {
     "name": "stdout",
     "output_type": "stream",
     "text": [
      "10000\n",
      "20000\n",
      "30000\n",
      "40000\n",
      "50000\n",
      "10000\n",
      "20000\n",
      "30000\n",
      "40000\n",
      "50000\n",
      "10000\n",
      "20000\n",
      "30000\n",
      "40000\n",
      "50000\n"
     ]
    }
   ],
   "source": [
    "phys_other_pmt_100=hit_distribution(list_of_phys_arrays,100)\n",
    "phys_other_pmt_1000=hit_distribution(list_of_phys_arrays,1000)\n",
    "phys_other_pmt_10000=hit_distribution(list_of_phys_arrays,10000)"
   ]
  },
  {
   "cell_type": "code",
   "execution_count": 1327,
   "metadata": {},
   "outputs": [
    {
     "name": "stdout",
     "output_type": "stream",
     "text": [
      "0\n"
     ]
    },
    {
     "ename": "KeyError",
     "evalue": "'I3MCWeightDict'",
     "output_type": "error",
     "traceback": [
      "\u001b[0;31m---------------------------------------------------------------------------\u001b[0m",
      "\u001b[0;31mKeyError\u001b[0m                                  Traceback (most recent call last)",
      "Cell \u001b[0;32mIn [1327], line 2\u001b[0m\n\u001b[1;32m      1\u001b[0m noise_file\u001b[38;5;241m=\u001b[39m glob\u001b[38;5;241m.\u001b[39mglob(\u001b[38;5;124m\"\u001b[39m\u001b[38;5;124m/i3store/users/gen2/22449/0000000-0000999/RandomNoise_Gen2_LOM16_240m_0.i3.zst\u001b[39m\u001b[38;5;124m\"\u001b[39m)\n\u001b[0;32m----> 2\u001b[0m energy_noise_event, length_noise\u001b[38;5;241m=\u001b[39m\u001b[43mget_data\u001b[49m\u001b[43m(\u001b[49m\u001b[43mnoise_file\u001b[49m\u001b[43m,\u001b[49m\u001b[43m \u001b[49m\u001b[43mcount\u001b[49m\u001b[38;5;241;43m=\u001b[39;49m\u001b[38;5;241;43m5\u001b[39;49m\u001b[43m)\u001b[49m\n",
      "Cell \u001b[0;32mIn [1279], line 34\u001b[0m, in \u001b[0;36mget_data\u001b[0;34m(glob_thing, count)\u001b[0m\n\u001b[1;32m     28\u001b[0m pulses_map \u001b[38;5;241m=\u001b[39m frame[\u001b[38;5;124m'\u001b[39m\u001b[38;5;124mI3RecoPulseSeriesMapGen2\u001b[39m\u001b[38;5;124m'\u001b[39m]\n\u001b[1;32m     30\u001b[0m \u001b[38;5;66m#---------------------------------------\u001b[39m\n\u001b[1;32m     31\u001b[0m \u001b[38;5;66m# And now pull information out to our\u001b[39m\n\u001b[1;32m     32\u001b[0m \u001b[38;5;66m# output lists\u001b[39m\n\u001b[1;32m     33\u001b[0m \u001b[38;5;66m#---------------------------------------\u001b[39m\n\u001b[0;32m---> 34\u001b[0m energy_number\u001b[38;5;241m=\u001b[39m\u001b[43mframe\u001b[49m\u001b[43m[\u001b[49m\u001b[38;5;124;43m'\u001b[39;49m\u001b[38;5;124;43mI3MCWeightDict\u001b[39;49m\u001b[38;5;124;43m'\u001b[39;49m\u001b[43m]\u001b[49m[\u001b[38;5;124m'\u001b[39m\u001b[38;5;124mPrimaryNeutrinoEnergy\u001b[39m\u001b[38;5;124m'\u001b[39m]\n\u001b[1;32m     35\u001b[0m \u001b[38;5;28;01mfor\u001b[39;00m pmtkey, pulse_list \u001b[38;5;129;01min\u001b[39;00m pulses_map:\n\u001b[1;32m     36\u001b[0m     \u001b[38;5;28;01mfor\u001b[39;00m pulse \u001b[38;5;129;01min\u001b[39;00m pulse_list:\n\u001b[1;32m     37\u001b[0m         \u001b[38;5;66m#---------------------------------------\u001b[39m\n\u001b[1;32m     38\u001b[0m         \u001b[38;5;66m# Store which event we're looking at over and over again so we know which pulses correlate to which events...this will take 1500 years\u001b[39m\n\u001b[1;32m     39\u001b[0m         \u001b[38;5;66m#---------------------------------------\u001b[39m\n",
      "\u001b[0;31mKeyError\u001b[0m: 'I3MCWeightDict'"
     ]
    }
   ],
   "source": [
    "noise_file= glob.glob(\"/i3store/users/gen2/22449/0000000-0000999/RandomNoise_Gen2_LOM16_240m_0.i3.zst\")\n",
    "energy_noise_event, length_noise=get_data(noise_file, count=5)"
   ]
  },
  {
   "cell_type": "code",
   "execution_count": 1183,
   "metadata": {},
   "outputs": [
    {
     "name": "stdout",
     "output_type": "stream",
     "text": [
      "[[1.00100000e+03 1.00000000e+00 0.00000000e+00 1.38686509e+06]\n",
      " [1.00100000e+03 1.00000000e+00 0.00000000e+00 7.62587787e+06]\n",
      " [1.00100000e+03 1.00000000e+00 0.00000000e+00 7.62923905e+06]\n",
      " ...\n",
      " [1.12000000e+03 8.00000000e+01 1.40000000e+01 8.67551347e+07]\n",
      " [1.12000000e+03 8.00000000e+01 1.40000000e+01 9.20034704e+07]\n",
      " [1.12000000e+03 8.00000000e+01 1.40000000e+01 9.55370445e+07]]\n"
     ]
    }
   ],
   "source": [
    "#Reshaping, then deleting unnecessary data\n",
    "shape_noise=np.shape(mult_pmt_noise_event)\n",
    "new_shape_noise=np.delete(shape_noise,0)\n",
    "better_noise_event=np.reshape(mult_pmt_noise_event,new_shape_noise)\n",
    "better_noise_event=np.delete(better_noise_event, 0, axis=1)\n",
    "print(better_noise_event)"
   ]
  },
  {
   "cell_type": "code",
   "execution_count": 1184,
   "metadata": {
    "tags": []
   },
   "outputs": [
    {
     "name": "stdout",
     "output_type": "stream",
     "text": [
      "0\n",
      "1000000\n",
      "2000000\n",
      "3000000\n",
      "4000000\n",
      "5000000\n",
      "6000000\n",
      "7000000\n",
      "8000000\n"
     ]
    }
   ],
   "source": [
    "#indexing in order to split by string\n",
    "strings_noise=better_noise_event[:,0].tolist()\n",
    "index_noise=[]\n",
    "sum_noise=0\n",
    "last_string=None\n",
    "count=0\n",
    "for string in strings_noise:\n",
    "    if count%1000000==0:\n",
    "        print(count)\n",
    "    count+=1\n",
    "    \n",
    "    if string!=last_string:\n",
    "        index_noise.append(sum_noise) \n",
    "        last_string=string\n",
    "    sum_noise+=1"
   ]
  },
  {
   "cell_type": "code",
   "execution_count": 1185,
   "metadata": {},
   "outputs": [
    {
     "data": {
      "text/plain": [
       "array([], shape=(0, 4), dtype=float64)"
      ]
     },
     "execution_count": 1185,
     "metadata": {},
     "output_type": "execute_result"
    }
   ],
   "source": [
    "list_of_noise_arrays=np.split(better_noise_event,index_noise)\n",
    "list_of_noise_arrays.pop(0)"
   ]
  },
  {
   "cell_type": "code",
   "execution_count": 1186,
   "metadata": {},
   "outputs": [],
   "source": [
    "for index1, array1 in enumerate(list_of_noise_arrays):\n",
    "    list_of_noise_arrays[index1]=sort_array_time(array1, 3)"
   ]
  },
  {
   "cell_type": "code",
   "execution_count": 1263,
   "metadata": {},
   "outputs": [
    {
     "name": "stdout",
     "output_type": "stream",
     "text": [
      "10\n",
      "20\n",
      "30\n",
      "40\n",
      "50\n",
      "60\n",
      "70\n",
      "80\n",
      "90\n",
      "100\n",
      "110\n",
      "120\n",
      "10\n",
      "20\n",
      "30\n",
      "40\n",
      "50\n",
      "60\n",
      "70\n",
      "80\n",
      "90\n",
      "100\n",
      "110\n",
      "120\n"
     ]
    },
    {
     "ename": "NameError",
     "evalue": "name 'noise_pmt_other_10000' is not defined",
     "output_type": "error",
     "traceback": [
      "\u001b[0;31m---------------------------------------------------------------------------\u001b[0m",
      "\u001b[0;31mNameError\u001b[0m                                 Traceback (most recent call last)",
      "Cell \u001b[0;32mIn [1263], line 3\u001b[0m\n\u001b[1;32m      1\u001b[0m noise_pmt_other_100\u001b[38;5;241m=\u001b[39mhit_distribution(list_of_noise_arrays,\u001b[38;5;241m100\u001b[39m)\n\u001b[1;32m      2\u001b[0m noise_pmt_other_1000\u001b[38;5;241m=\u001b[39mhit_distribution(list_of_noise_arrays,\u001b[38;5;241m1000\u001b[39m)\n\u001b[0;32m----> 3\u001b[0m \u001b[43mnoise_pmt_other_10000\u001b[49m\u001b[38;5;241m==\u001b[39mhit_distribution(list_of_noise_arrays,\u001b[38;5;241m10000\u001b[39m)\n",
      "\u001b[0;31mNameError\u001b[0m: name 'noise_pmt_other_10000' is not defined"
     ]
    }
   ],
   "source": [
    "noise_pmt_other_100=hit_distribution(list_of_noise_arrays,100)\n",
    "noise_pmt_other_1000=hit_distribution(list_of_noise_arrays,1000)\n"
   ]
  },
  {
   "cell_type": "code",
   "execution_count": 1264,
   "metadata": {},
   "outputs": [
    {
     "name": "stdout",
     "output_type": "stream",
     "text": [
      "10\n",
      "20\n",
      "30\n",
      "40\n",
      "50\n",
      "60\n",
      "70\n",
      "80\n",
      "90\n",
      "100\n",
      "110\n",
      "120\n"
     ]
    }
   ],
   "source": [
    "noise_pmt_other_10000=hit_distribution(list_of_noise_arrays,10000)"
   ]
  },
  {
   "cell_type": "code",
   "execution_count": 1499,
   "metadata": {},
   "outputs": [
    {
     "data": {
      "image/png": "[encoded data removed]",
      "text/plain": [
       "<Figure size 2100x700 with 3 Axes>"
      ]
     },
     "metadata": {},
     "output_type": "display_data"
    }
   ],
   "source": [
    "fig, (ax0, ax1, ax2)=plt.subplots(1,3, figsize=(21,7))\n",
    "bins=np.arange(0, 16)-0.5\n",
    "#colors=[\"blue\",\"orange\"]\n",
    "weight1=np.ones(len(noise_pmt_other_100))/len(noise_pmt_other_100)\n",
    "weight2=np.ones(len(phys_other_pmt_100))/len(phys_other_pmt_100)\n",
    "counts_100_ns, bin_100, patches_100=ax0.hist([noise_pmt_other_100, phys_other_pmt_100], bins=bins, weights=[weight1, weight2],\n",
    "         label=[\"noise\",\"physics+noise\"], edgecolor=\"black\", cumulative=-1)\n",
    "plt.sca(ax0)\n",
    "plt.xticks(range(0,16))\n",
    "ax0.set_title(\"100 ns Time Window\")\n",
    "ax0.set_xlabel(\"Min # of Other PMTs Hit\")\n",
    "ax0.set_ylabel(\"Percent of Hits\")\n",
    "ax0.set_ylim(bottom=0)\n",
    "ax0.set_xlim(left=-0.5, right=16)\n",
    "plt.legend(loc='upper center', ncol=2, framealpha=1)\n",
    "\n",
    "\n",
    "weight1=np.ones(len(noise_pmt_other_1000))/len(noise_pmt_other_1000)\n",
    "weight2=np.ones(len(phys_other_pmt_1000))/len(phys_other_pmt_1000)\n",
    "counts_1000_ns, bin_1000, patches_1000=ax1.hist([noise_pmt_other_1000, phys_other_pmt_1000], bins=bins, weights=[weight1, weight2],\n",
    "         label=[\"noise\",\"physics+noise\"], edgecolor=\"black\", cumulative=-1)\n",
    "plt.sca(ax1)\n",
    "plt.xticks(range(0,16))\n",
    "ax1.set_title(\"1000 ns Time Window\")\n",
    "ax1.set_xlabel(\"Min # of Other PMTs Hit\")\n",
    "ax1.set_ylabel(\"Percent of Hits\")\n",
    "ax1.set_ylim(bottom=0)\n",
    "ax1.set_xlim(left=-0.5, right=16)\n",
    "plt.legend(loc='upper center', ncol=2, framealpha=1)\n",
    "\n",
    "\n",
    "weight1=np.ones(len(noise_pmt_other_10000))/len(noise_pmt_other_10000)\n",
    "weight2=np.ones(len(phys_other_pmt_10000))/len(phys_other_pmt_10000)\n",
    "counts_10000_ns, bin_10000, patches_10000=ax2.hist([noise_pmt_other_10000, phys_other_pmt_10000], bins=bins, weights=[weight1, weight2],\n",
    "         label=[\"noise\",\"physics+noise\"], edgecolor=\"black\", cumulative=-1)\n",
    "plt.sca(ax2)\n",
    "plt.xticks(range(0,16))\n",
    "ax2.set_title(\"10000 ns Time Window\")\n",
    "ax2.set_xlabel(\"Min # of Other PMTs Hit\")\n",
    "ax2.set_ylabel(\"Percent of Hits\")\n",
    "ax2.set_ylim(bottom=0)\n",
    "ax2.set_xlim(left=-0.5, right=16)\n",
    "plt.legend(loc='upper center', ncol=2, framealpha=1)\n",
    "\n",
    "fig.suptitle(\"PMT Noise vs Physics, 10-100Tev\")\n",
    "fig.savefig(\"pmt_noisevphysics_energy.png\")\n",
    "fig.show()"
   ]
  },
  {
   "cell_type": "code",
   "execution_count": 1501,
   "metadata": {},
   "outputs": [
    {
     "data": {
      "text/plain": [
       "0.3498813127543261"
      ]
     },
     "execution_count": 1501,
     "metadata": {},
     "output_type": "execute_result"
    }
   ],
   "source": [
    "y_1000[2]"
   ]
  },
  {
   "cell_type": "code",
   "execution_count": 1500,
   "metadata": {},
   "outputs": [
    {
     "data": {
      "image/png": "[encoded data removed]",
      "text/plain": [
       "<Figure size 640x480 with 1 Axes>"
      ]
     },
     "metadata": {},
     "output_type": "display_data"
    }
   ],
   "source": [
    "x_100=counts_100_ns[0, 0:10]\n",
    "y_100=counts_100_ns[1, 0:10]\n",
    "x_1000=counts_1000_ns[0, 0:10]\n",
    "y_1000=counts_1000_ns[1, 0:10]\n",
    "x_10000=counts_10000_ns[0, 0:10]\n",
    "y_10000=counts_10000_ns[1, 0:10]\n",
    "plt.scatter(x_100,y_100, label=\"100 ns Timewindow\", s=100)\n",
    "plt.scatter(x_1000,y_1000, c=\"r\", marker=\"^\", label=\"1000 ns Timewindow\", s=100)\n",
    "plt.scatter(x_10000,y_10000, c=\"orange\", marker=\"*\", label=\"10000 ns Timewindow\", s=200)\n",
    "plt.ylim(bottom=0, top=0.5)\n",
    "plt.xlim(left=-0.05, right=0.15)\n",
    "plt.legend()\n",
    "plt.xlabel(\"Noise Percentage\")\n",
    "plt.ylabel(\"Physics+Noise Percentage\")\n",
    "\n",
    "plt.title(\"ROC plot, 10-100 TeV\")\n",
    "plt.savefig('ROCplot_pmt_zoom.png')\n",
    "plt.show()"
   ]
  },
  {
   "cell_type": "code",
   "execution_count": 1375,
   "metadata": {},
   "outputs": [
    {
     "name": "stdout",
     "output_type": "stream",
     "text": [
      "[0.10906894 0.0098806 ]\n",
      "[0.26132008 0.17040608]\n"
     ]
    }
   ],
   "source": [
    "print(x_1000)\n",
    "print(y_1000)"
   ]
  },
  {
   "cell_type": "markdown",
   "metadata": {},
   "source": [
    "## Now I'm going to check how many hits there are for each event"
   ]
  },
  {
   "cell_type": "code",
   "execution_count": 10,
   "metadata": {
    "tags": []
   },
   "outputs": [
    {
     "name": "stdout",
     "output_type": "stream",
     "text": [
      "0\n",
      "1000\n",
      "2000\n",
      "3000\n",
      "4000\n",
      "5000\n",
      "6000\n",
      "7000\n",
      "8000\n",
      "9000\n",
      "10000\n",
      "11000\n",
      "12000\n",
      "13000\n",
      "14000\n",
      "15000\n",
      "16000\n",
      "17000\n",
      "18000\n",
      "19000\n",
      "20000\n",
      "21000\n",
      "22000\n",
      "23000\n",
      "24000\n",
      "25000\n",
      "Length of signal array=83798215\n"
     ]
    }
   ],
   "source": [
    "signal_glob=glob.glob('/i3store/users/gen2/22450/0000000-0000999/NuGen*')\n",
    "signal_array, signal_length=get_data(signal_glob, 1000)\n",
    "print(\"Length of signal array=\" + str(signal_length))"
   ]
  },
  {
   "cell_type": "code",
   "execution_count": 11,
   "metadata": {},
   "outputs": [
    {
     "name": "stdout",
     "output_type": "stream",
     "text": [
      "[[[9.97666802e+05 1.00000000e+00 1.00100000e+03 3.00000000e+00\n",
      "   3.00000000e+00 1.01283235e+06]\n",
      "  [9.97666802e+05 1.00000000e+00 1.00100000e+03 5.00000000e+00\n",
      "   1.30000000e+01 1.02503579e+06]\n",
      "  [9.97666802e+05 1.00000000e+00 1.00100000e+03 8.00000000e+00\n",
      "   0.00000000e+00 1.00206232e+06]\n",
      "  ...\n",
      "  [4.76434856e+05 2.53160000e+04 1.12000000e+03 4.40000000e+01\n",
      "   6.00000000e+00 2.53160082e+10]\n",
      "  [4.76434856e+05 2.53160000e+04 1.12000000e+03 4.40000000e+01\n",
      "   6.00000000e+00 2.53160119e+10]\n",
      "  [4.76434856e+05 2.53160000e+04 1.12000000e+03 7.50000000e+01\n",
      "   8.00000000e+00 2.53160216e+10]]]\n"
     ]
    }
   ],
   "source": [
    "print(signal_array)"
   ]
  },
  {
   "cell_type": "code",
   "execution_count": 17,
   "metadata": {},
   "outputs": [
    {
     "name": "stdout",
     "output_type": "stream",
     "text": [
      "[[9.97666802e+05 1.00000000e+00 1.00100000e+03 3.00000000e+00\n",
      "  3.00000000e+00 1.01283235e+06]\n",
      " [9.97666802e+05 1.00000000e+00 1.00100000e+03 5.00000000e+00\n",
      "  1.30000000e+01 1.02503579e+06]\n",
      " [9.97666802e+05 1.00000000e+00 1.00100000e+03 8.00000000e+00\n",
      "  0.00000000e+00 1.00206232e+06]\n",
      " ...\n",
      " [4.76434856e+05 2.53160000e+04 1.12000000e+03 4.40000000e+01\n",
      "  6.00000000e+00 2.53160082e+10]\n",
      " [4.76434856e+05 2.53160000e+04 1.12000000e+03 4.40000000e+01\n",
      "  6.00000000e+00 2.53160119e+10]\n",
      " [4.76434856e+05 2.53160000e+04 1.12000000e+03 7.50000000e+01\n",
      "  8.00000000e+00 2.53160216e+10]]\n"
     ]
    }
   ],
   "source": [
    "print(signal_array)"
   ]
  },
  {
   "cell_type": "code",
   "execution_count": 18,
   "metadata": {},
   "outputs": [],
   "source": [
    "def list_of_arrays_by_event(array, event_column, first_event):\n",
    "    event_phys=array[:,event_column].tolist()\n",
    "    index=[]\n",
    "    sum_phys=0\n",
    "    last_event=first_event\n",
    "    for event in event_phys:\n",
    "        if event!=last_event:\n",
    "            index.append(sum_phys) \n",
    "            last_event=event\n",
    "        sum_phys+=1\n",
    "    list_of_arrays=np.split(array, index)\n",
    "    return list_of_arrays"
   ]
  },
  {
   "cell_type": "code",
   "execution_count": 19,
   "metadata": {},
   "outputs": [],
   "source": [
    "list_event_signal=list_of_arrays_by_event(signal_array, 1, 1)"
   ]
  },
  {
   "cell_type": "code",
   "execution_count": 21,
   "metadata": {
    "tags": []
   },
   "outputs": [
    {
     "name": "stdout",
     "output_type": "stream",
     "text": [
      "[[2.09813071e+04 6.00000000e+00 1.00100000e+03 2.40000000e+01\n",
      "  1.20000000e+01 6.01944779e+06]\n",
      " [2.09813071e+04 6.00000000e+00 1.00100000e+03 2.40000000e+01\n",
      "  1.20000000e+01 6.01945520e+06]\n",
      " [2.09813071e+04 6.00000000e+00 1.00100000e+03 2.40000000e+01\n",
      "  1.20000000e+01 6.01957303e+06]\n",
      " ...\n",
      " [2.09813071e+04 6.00000000e+00 1.12000000e+03 7.10000000e+01\n",
      "  7.00000000e+00 6.00276216e+06]\n",
      " [2.09813071e+04 6.00000000e+00 1.12000000e+03 7.10000000e+01\n",
      "  7.00000000e+00 6.00279842e+06]\n",
      " [2.09813071e+04 6.00000000e+00 1.12000000e+03 7.10000000e+01\n",
      "  7.00000000e+00 6.00508884e+06]]\n"
     ]
    }
   ],
   "source": [
    "print(list_event_signal[5])"
   ]
  },
  {
   "cell_type": "code",
   "execution_count": 22,
   "metadata": {},
   "outputs": [],
   "source": [
    "def list_of_arrays_by_string(array, string_column, first_string):\n",
    "    string_phys=array[:,string_column].tolist()\n",
    "    index=[]\n",
    "    sum_phys=0\n",
    "    last_string=first_string\n",
    "    for string in string_phys:\n",
    "        if string!=last_string:\n",
    "            index.append(sum_phys) \n",
    "            last_string=string\n",
    "        sum_phys+=1\n",
    "    list_of_arrays=np.split(array, index)\n",
    "    return list_of_arrays"
   ]
  },
  {
   "cell_type": "code",
   "execution_count": 23,
   "metadata": {},
   "outputs": [],
   "source": [
    "def sort_by_time(list_of_arrays, time_column):\n",
    "    for index1, event in enumerate(list_of_arrays):\n",
    "        for index2, string in enumerate(event):\n",
    "            list_of_arrays[index1][index2]=sort_array_time(string, time_column)"
   ]
  },
  {
   "cell_type": "code",
   "execution_count": 24,
   "metadata": {},
   "outputs": [],
   "source": [
    "for index, event in enumerate(list_event_signal):\n",
    "    list_event_signal[index]=list_of_arrays_by_string(event, 2, 1001)\n",
    "    "
   ]
  },
  {
   "cell_type": "code",
   "execution_count": 25,
   "metadata": {
    "tags": []
   },
   "outputs": [
    {
     "name": "stdout",
     "output_type": "stream",
     "text": [
      "[[9.97666802e+05 1.00000000e+00 1.00800000e+03 7.00000000e+00\n",
      "  9.00000000e+00 1.00884391e+06]\n",
      " [9.97666802e+05 1.00000000e+00 1.00800000e+03 7.00000000e+00\n",
      "  9.00000000e+00 1.02309783e+06]\n",
      " [9.97666802e+05 1.00000000e+00 1.00800000e+03 1.20000000e+01\n",
      "  4.00000000e+00 1.01893093e+06]\n",
      " [9.97666802e+05 1.00000000e+00 1.00800000e+03 1.20000000e+01\n",
      "  4.00000000e+00 1.02752811e+06]\n",
      " [9.97666802e+05 1.00000000e+00 1.00800000e+03 1.20000000e+01\n",
      "  7.00000000e+00 1.02729566e+06]\n",
      " [9.97666802e+05 1.00000000e+00 1.00800000e+03 1.40000000e+01\n",
      "  2.00000000e+00 1.02201237e+06]\n",
      " [9.97666802e+05 1.00000000e+00 1.00800000e+03 2.30000000e+01\n",
      "  3.00000000e+00 1.00359652e+06]\n",
      " [9.97666802e+05 1.00000000e+00 1.00800000e+03 2.30000000e+01\n",
      "  7.00000000e+00 1.00341998e+06]\n",
      " [9.97666802e+05 1.00000000e+00 1.00800000e+03 2.30000000e+01\n",
      "  7.00000000e+00 1.00372033e+06]\n",
      " [9.97666802e+05 1.00000000e+00 1.00800000e+03 2.30000000e+01\n",
      "  7.00000000e+00 1.01450076e+06]\n",
      " [9.97666802e+05 1.00000000e+00 1.00800000e+03 2.40000000e+01\n",
      "  2.00000000e+00 1.00949365e+06]\n",
      " [9.97666802e+05 1.00000000e+00 1.00800000e+03 3.70000000e+01\n",
      "  1.40000000e+01 1.00950634e+06]\n",
      " [9.97666802e+05 1.00000000e+00 1.00800000e+03 3.70000000e+01\n",
      "  1.40000000e+01 1.00952229e+06]\n",
      " [9.97666802e+05 1.00000000e+00 1.00800000e+03 3.70000000e+01\n",
      "  1.40000000e+01 1.00956753e+06]\n",
      " [9.97666802e+05 1.00000000e+00 1.00800000e+03 3.70000000e+01\n",
      "  1.40000000e+01 1.01071090e+06]\n",
      " [9.97666802e+05 1.00000000e+00 1.00800000e+03 3.70000000e+01\n",
      "  1.40000000e+01 1.01116639e+06]\n",
      " [9.97666802e+05 1.00000000e+00 1.00800000e+03 3.70000000e+01\n",
      "  1.40000000e+01 1.01160200e+06]\n",
      " [9.97666802e+05 1.00000000e+00 1.00800000e+03 3.70000000e+01\n",
      "  1.40000000e+01 1.01233291e+06]\n",
      " [9.97666802e+05 1.00000000e+00 1.00800000e+03 3.70000000e+01\n",
      "  1.40000000e+01 1.01343275e+06]\n",
      " [9.97666802e+05 1.00000000e+00 1.00800000e+03 3.70000000e+01\n",
      "  1.40000000e+01 1.01373613e+06]\n",
      " [9.97666802e+05 1.00000000e+00 1.00800000e+03 3.70000000e+01\n",
      "  1.40000000e+01 1.01392516e+06]\n",
      " [9.97666802e+05 1.00000000e+00 1.00800000e+03 3.70000000e+01\n",
      "  1.40000000e+01 1.01401713e+06]\n",
      " [9.97666802e+05 1.00000000e+00 1.00800000e+03 3.70000000e+01\n",
      "  1.40000000e+01 1.01500548e+06]\n",
      " [9.97666802e+05 1.00000000e+00 1.00800000e+03 3.70000000e+01\n",
      "  1.40000000e+01 1.01972162e+06]\n",
      " [9.97666802e+05 1.00000000e+00 1.00800000e+03 3.70000000e+01\n",
      "  1.40000000e+01 1.02286277e+06]\n",
      " [9.97666802e+05 1.00000000e+00 1.00800000e+03 5.40000000e+01\n",
      "  9.00000000e+00 1.00886832e+06]\n",
      " [9.97666802e+05 1.00000000e+00 1.00800000e+03 5.40000000e+01\n",
      "  9.00000000e+00 1.00978829e+06]\n",
      " [9.97666802e+05 1.00000000e+00 1.00800000e+03 5.40000000e+01\n",
      "  9.00000000e+00 1.01217117e+06]\n",
      " [9.97666802e+05 1.00000000e+00 1.00800000e+03 5.40000000e+01\n",
      "  9.00000000e+00 1.01464234e+06]\n",
      " [9.97666802e+05 1.00000000e+00 1.00800000e+03 5.40000000e+01\n",
      "  9.00000000e+00 1.01484282e+06]\n",
      " [9.97666802e+05 1.00000000e+00 1.00800000e+03 5.40000000e+01\n",
      "  9.00000000e+00 1.02176382e+06]\n",
      " [9.97666802e+05 1.00000000e+00 1.00800000e+03 6.20000000e+01\n",
      "  9.00000000e+00 9.97714782e+05]\n",
      " [9.97666802e+05 1.00000000e+00 1.00800000e+03 6.20000000e+01\n",
      "  9.00000000e+00 1.00054486e+06]\n",
      " [9.97666802e+05 1.00000000e+00 1.00800000e+03 6.50000000e+01\n",
      "  9.00000000e+00 9.98641293e+05]\n",
      " [9.97666802e+05 1.00000000e+00 1.00800000e+03 7.50000000e+01\n",
      "  4.00000000e+00 9.97860894e+05]]\n"
     ]
    }
   ],
   "source": [
    "print(list_event_signal[0][7])"
   ]
  },
  {
   "cell_type": "code",
   "execution_count": 26,
   "metadata": {},
   "outputs": [],
   "source": [
    "list_event_string_signal=list_event_signal"
   ]
  },
  {
   "cell_type": "code",
   "execution_count": 29,
   "metadata": {},
   "outputs": [],
   "source": [
    "sort_by_time(list_event_string_signal,5)"
   ]
  },
  {
   "cell_type": "code",
   "execution_count": 30,
   "metadata": {
    "collapsed": true,
    "jupyter": {
     "outputs_hidden": true
    },
    "tags": []
   },
   "outputs": [
    {
     "name": "stdout",
     "output_type": "stream",
     "text": [
      "[[2.09813071e+04 6.00000000e+00 1.00300000e+03 3.30000000e+01\n",
      "  2.00000000e+00 5.99482064e+06]\n",
      " [2.09813071e+04 6.00000000e+00 1.00300000e+03 4.30000000e+01\n",
      "  4.00000000e+00 5.99509587e+06]\n",
      " [2.09813071e+04 6.00000000e+00 1.00300000e+03 4.30000000e+01\n",
      "  4.00000000e+00 5.99548054e+06]\n",
      " [2.09813071e+04 6.00000000e+00 1.00300000e+03 1.00000000e+00\n",
      "  1.20000000e+01 5.99593129e+06]\n",
      " [2.09813071e+04 6.00000000e+00 1.00300000e+03 4.30000000e+01\n",
      "  4.00000000e+00 5.99675757e+06]\n",
      " [2.09813071e+04 6.00000000e+00 1.00300000e+03 4.30000000e+01\n",
      "  4.00000000e+00 5.99839983e+06]\n",
      " [2.09813071e+04 6.00000000e+00 1.00300000e+03 4.30000000e+01\n",
      "  4.00000000e+00 5.99918691e+06]\n",
      " [2.09813071e+04 6.00000000e+00 1.00300000e+03 4.30000000e+01\n",
      "  4.00000000e+00 5.99931576e+06]\n",
      " [2.09813071e+04 6.00000000e+00 1.00300000e+03 9.00000000e+00\n",
      "  3.00000000e+00 6.00007828e+06]\n",
      " [2.09813071e+04 6.00000000e+00 1.00300000e+03 4.30000000e+01\n",
      "  4.00000000e+00 6.00013340e+06]\n",
      " [2.09813071e+04 6.00000000e+00 1.00300000e+03 4.30000000e+01\n",
      "  4.00000000e+00 6.00425301e+06]\n",
      " [2.09813071e+04 6.00000000e+00 1.00300000e+03 4.30000000e+01\n",
      "  4.00000000e+00 6.00560638e+06]\n",
      " [2.09813071e+04 6.00000000e+00 1.00300000e+03 4.30000000e+01\n",
      "  4.00000000e+00 6.01158388e+06]\n",
      " [2.09813071e+04 6.00000000e+00 1.00300000e+03 8.00000000e+00\n",
      "  8.00000000e+00 6.01293632e+06]\n",
      " [2.09813071e+04 6.00000000e+00 1.00300000e+03 8.00000000e+00\n",
      "  8.00000000e+00 6.01310468e+06]\n",
      " [2.09813071e+04 6.00000000e+00 1.00300000e+03 5.70000000e+01\n",
      "  5.00000000e+00 6.01330229e+06]\n",
      " [2.09813071e+04 6.00000000e+00 1.00300000e+03 5.70000000e+01\n",
      "  5.00000000e+00 6.01350816e+06]\n",
      " [2.09813071e+04 6.00000000e+00 1.00300000e+03 5.70000000e+01\n",
      "  5.00000000e+00 6.01389153e+06]\n",
      " [2.09813071e+04 6.00000000e+00 1.00300000e+03 8.00000000e+00\n",
      "  8.00000000e+00 6.01435175e+06]\n",
      " [2.09813071e+04 6.00000000e+00 1.00300000e+03 5.70000000e+01\n",
      "  5.00000000e+00 6.01463523e+06]\n",
      " [2.09813071e+04 6.00000000e+00 1.00300000e+03 5.70000000e+01\n",
      "  5.00000000e+00 6.01488917e+06]\n",
      " [2.09813071e+04 6.00000000e+00 1.00300000e+03 6.20000000e+01\n",
      "  6.00000000e+00 6.01635542e+06]\n",
      " [2.09813071e+04 6.00000000e+00 1.00300000e+03 5.70000000e+01\n",
      "  5.00000000e+00 6.01685987e+06]\n",
      " [2.09813071e+04 6.00000000e+00 1.00300000e+03 5.70000000e+01\n",
      "  5.00000000e+00 6.01703570e+06]\n",
      " [2.09813071e+04 6.00000000e+00 1.00300000e+03 8.00000000e+00\n",
      "  8.00000000e+00 6.02021429e+06]\n",
      " [2.09813071e+04 6.00000000e+00 1.00300000e+03 5.70000000e+01\n",
      "  1.00000000e+00 6.02026735e+06]\n",
      " [2.09813071e+04 6.00000000e+00 1.00300000e+03 5.70000000e+01\n",
      "  5.00000000e+00 6.02120533e+06]\n",
      " [2.09813071e+04 6.00000000e+00 1.00300000e+03 5.70000000e+01\n",
      "  5.00000000e+00 6.02176406e+06]\n",
      " [2.09813071e+04 6.00000000e+00 1.00300000e+03 8.00000000e+00\n",
      "  8.00000000e+00 6.03018914e+06]]\n"
     ]
    }
   ],
   "source": [
    "print(list_event_string_signal[5][2])"
   ]
  },
  {
   "cell_type": "code",
   "execution_count": 55,
   "metadata": {},
   "outputs": [],
   "source": [
    "def number_of_hits(list_of_arrays, nanoseconds, dom_column, pmt_column, time_column, dom_limit, pmt_hits):\n",
    "    \n",
    "    #This functions takes a list of a list of arrays, first split by event, then by string.\n",
    "    count=0\n",
    "    hit_distrib=[]\n",
    "    total_hits_event=[]\n",
    "    \n",
    "    for event in list_of_arrays:\n",
    "        \n",
    "        total_hits=0\n",
    "        \n",
    "        # Set the number of hits so far for this even equal to 0\n",
    "        hits=0\n",
    "        for string in event:\n",
    "            \n",
    "            count+=1\n",
    "            if count%40==0:\n",
    "                print(count)\n",
    "            \n",
    "            total_hits+=len(string)\n",
    "            \n",
    "            string2=string\n",
    "            for pulse in string:\n",
    "                temp=[]\n",
    "                other_pmt_count=0\n",
    "                \n",
    "                #this other array will contain all the pulses that occured after this one\n",
    "                string2=np.delete(string2, 0, axis=0)\n",
    "            \n",
    "                #Loop through until nanoseconds are exceeded\n",
    "                i=0\n",
    "                while i<len(string2) and (string2[i,time_column]-pulse[time_column])<nanoseconds:\n",
    "                    #If DOMS are the same and PMTs are different\n",
    "                    if pulse[dom_column]==string2[i,dom_column]:\n",
    "                        if (pulse[pmt_column]!=string2[i,pmt_column]) and (string2[i,pmt_column] not in temp):\n",
    "                            #count how many \"other\" pmts are hit\n",
    "                            other_pmt_count+=1\n",
    "                            temp.append(string2[i,pmt_column])\n",
    "                        \n",
    "                            #if other pmts hit is equal to 2, mark the pulse as a hit and stop going through the while loop\n",
    "                            if other_pmt_count==pmt_hits:\n",
    "                                hits+=1\n",
    "                                break\n",
    "\n",
    "                    #If DOMS are different but 2 or less away,\n",
    "                    if abs(pulse[dom_column]-string2[i,dom_column])<=dom_limit and pulse[dom_column]!=string2[i,dom_column]:\n",
    "                        #count it as a hit, and stop going through the while loop\n",
    "                        hits+=1\n",
    "                        break\n",
    "                    \n",
    "                    \n",
    "                    #increment the while loop                \n",
    "                    i+=1\n",
    "        hit_distrib.append(hits)\n",
    "        total_hits_event.append(total_hits)\n",
    "    return hit_distrib, total_hits_event"
   ]
  },
  {
   "cell_type": "code",
   "execution_count": 35,
   "metadata": {},
   "outputs": [
    {
     "name": "stdout",
     "output_type": "stream",
     "text": [
      "2000\n",
      "4000\n",
      "6000\n",
      "8000\n",
      "10000\n",
      "12000\n",
      "14000\n",
      "16000\n",
      "18000\n",
      "20000\n",
      "22000\n",
      "24000\n"
     ]
    }
   ],
   "source": [
    "signal_hit_distr_2, signal_total_hits_event_2=number_of_hits(list_event_string_signal, nanoseconds=1000, dom_column=3, pmt_column=4, time_column=5, dom_limit=2, pmt_hits=2)"
   ]
  },
  {
   "cell_type": "code",
   "execution_count": 36,
   "metadata": {},
   "outputs": [
    {
     "name": "stdout",
     "output_type": "stream",
     "text": [
      "2000\n",
      "4000\n",
      "6000\n",
      "8000\n",
      "10000\n",
      "12000\n",
      "14000\n",
      "16000\n",
      "18000\n",
      "20000\n",
      "22000\n",
      "24000\n"
     ]
    }
   ],
   "source": [
    "signal_hit_distr_1, signal_total_hits_event_1=number_of_hits(list_event_string_signal, nanoseconds=1000, dom_column=3, pmt_column=4, time_column=5, dom_limit=2, pmt_hits=1)"
   ]
  },
  {
   "cell_type": "code",
   "execution_count": 38,
   "metadata": {
    "collapsed": true,
    "jupyter": {
     "outputs_hidden": true
    },
    "tags": []
   },
   "outputs": [
    {
     "name": "stdout",
     "output_type": "stream",
     "text": [
      "0\n",
      "1\n",
      "2\n",
      "3\n",
      "4\n",
      "5\n",
      "6\n",
      "7\n",
      "8\n",
      "9\n",
      "Length of noise array=81410615\n"
     ]
    }
   ],
   "source": [
    "noise_glob=glob.glob('/i3store/users/gen2/22449/0000000-0000999/RandomNoise*')\n",
    "noise_array, noise_length=get_data(noise_glob, 1)\n",
    "print(\"Length of noise array=\" + str(noise_length))"
   ]
  },
  {
   "cell_type": "code",
   "execution_count": 39,
   "metadata": {
    "collapsed": true,
    "jupyter": {
     "outputs_hidden": true
    },
    "tags": []
   },
   "outputs": [
    {
     "name": "stdout",
     "output_type": "stream",
     "text": [
      "[[[1.00000000e+00 1.00100000e+03 1.00000000e+00 0.00000000e+00\n",
      "   1.38686509e+06]\n",
      "  [1.00000000e+00 1.00100000e+03 1.00000000e+00 0.00000000e+00\n",
      "   7.62587787e+06]\n",
      "  [1.00000000e+00 1.00100000e+03 1.00000000e+00 0.00000000e+00\n",
      "   7.62923905e+06]\n",
      "  ...\n",
      "  [1.00000000e+01 1.12000000e+03 8.00000000e+01 1.40000000e+01\n",
      "   9.49183417e+07]\n",
      "  [1.00000000e+01 1.12000000e+03 8.00000000e+01 1.40000000e+01\n",
      "   9.58993431e+07]\n",
      "  [1.00000000e+01 1.12000000e+03 8.00000000e+01 1.40000000e+01\n",
      "   9.59011561e+07]]]\n"
     ]
    }
   ],
   "source": [
    "print(noise_array)"
   ]
  },
  {
   "cell_type": "code",
   "execution_count": 40,
   "metadata": {
    "tags": []
   },
   "outputs": [],
   "source": [
    "noise_array=reshape(noise_array)"
   ]
  },
  {
   "cell_type": "code",
   "execution_count": 41,
   "metadata": {
    "collapsed": true,
    "jupyter": {
     "outputs_hidden": true
    },
    "tags": []
   },
   "outputs": [
    {
     "name": "stdout",
     "output_type": "stream",
     "text": [
      "[[1.00000000e+00 1.00100000e+03 1.00000000e+00 0.00000000e+00\n",
      "  1.38686509e+06]\n",
      " [1.00000000e+00 1.00100000e+03 1.00000000e+00 0.00000000e+00\n",
      "  7.62587787e+06]\n",
      " [1.00000000e+00 1.00100000e+03 1.00000000e+00 0.00000000e+00\n",
      "  7.62923905e+06]\n",
      " ...\n",
      " [1.00000000e+01 1.12000000e+03 8.00000000e+01 1.40000000e+01\n",
      "  9.49183417e+07]\n",
      " [1.00000000e+01 1.12000000e+03 8.00000000e+01 1.40000000e+01\n",
      "  9.58993431e+07]\n",
      " [1.00000000e+01 1.12000000e+03 8.00000000e+01 1.40000000e+01\n",
      "  9.59011561e+07]]\n"
     ]
    }
   ],
   "source": [
    "print(noise_array)"
   ]
  },
  {
   "cell_type": "code",
   "execution_count": 42,
   "metadata": {},
   "outputs": [],
   "source": [
    "list_event_noise=list_of_arrays_by_event(noise_array, 0, 1)"
   ]
  },
  {
   "cell_type": "code",
   "execution_count": 43,
   "metadata": {
    "collapsed": true,
    "jupyter": {
     "outputs_hidden": true
    },
    "tags": []
   },
   "outputs": [
    {
     "name": "stdout",
     "output_type": "stream",
     "text": [
      "[[6.00000000e+00 1.00100000e+03 1.00000000e+00 0.00000000e+00\n",
      "  2.16731513e+07]\n",
      " [6.00000000e+00 1.00100000e+03 1.00000000e+00 0.00000000e+00\n",
      "  2.28771129e+07]\n",
      " [6.00000000e+00 1.00100000e+03 1.00000000e+00 0.00000000e+00\n",
      "  2.28839723e+07]\n",
      " ...\n",
      " [6.00000000e+00 1.12000000e+03 8.00000000e+01 1.40000000e+01\n",
      "  9.38912210e+07]\n",
      " [6.00000000e+00 1.12000000e+03 8.00000000e+01 1.40000000e+01\n",
      "  1.04244746e+08]\n",
      " [6.00000000e+00 1.12000000e+03 8.00000000e+01 1.40000000e+01\n",
      "  1.04247925e+08]]\n"
     ]
    }
   ],
   "source": [
    "print(list_event_noise[5])"
   ]
  },
  {
   "cell_type": "code",
   "execution_count": 44,
   "metadata": {},
   "outputs": [],
   "source": [
    "for index, event in enumerate(list_event_noise):\n",
    "    list_event_noise[index]=list_of_arrays_by_string(event, 1, 1001)\n",
    "    "
   ]
  },
  {
   "cell_type": "code",
   "execution_count": 45,
   "metadata": {
    "collapsed": true,
    "jupyter": {
     "outputs_hidden": true
    },
    "tags": []
   },
   "outputs": [
    {
     "name": "stdout",
     "output_type": "stream",
     "text": [
      "[[1.00000000e+00 1.00800000e+03 1.00000000e+00 0.00000000e+00\n",
      "  9.87413564e+05]\n",
      " [1.00000000e+00 1.00800000e+03 1.00000000e+00 0.00000000e+00\n",
      "  4.60921438e+06]\n",
      " [1.00000000e+00 1.00800000e+03 1.00000000e+00 0.00000000e+00\n",
      "  1.78998797e+07]\n",
      " ...\n",
      " [1.00000000e+00 1.00800000e+03 8.00000000e+01 1.40000000e+01\n",
      "  8.92902457e+07]\n",
      " [1.00000000e+00 1.00800000e+03 8.00000000e+01 1.40000000e+01\n",
      "  9.99180173e+07]\n",
      " [1.00000000e+00 1.00800000e+03 8.00000000e+01 1.40000000e+01\n",
      "  9.99200719e+07]]\n"
     ]
    }
   ],
   "source": [
    "print(list_event_noise[0][7])"
   ]
  },
  {
   "cell_type": "code",
   "execution_count": 46,
   "metadata": {},
   "outputs": [],
   "source": [
    "list_event_string_noise=list_event_noise"
   ]
  },
  {
   "cell_type": "code",
   "execution_count": 47,
   "metadata": {},
   "outputs": [],
   "source": [
    "sort_by_time(list_event_string_noise,4)"
   ]
  },
  {
   "cell_type": "code",
   "execution_count": 48,
   "metadata": {
    "collapsed": true,
    "jupyter": {
     "outputs_hidden": true
    },
    "tags": []
   },
   "outputs": [
    {
     "name": "stdout",
     "output_type": "stream",
     "text": [
      "[[1.00000000e+00 1.00800000e+03 6.70000000e+01 1.40000000e+01\n",
      "  8.35023687e+05]\n",
      " [1.00000000e+00 1.00800000e+03 6.70000000e+01 1.40000000e+01\n",
      "  8.35044500e+05]\n",
      " [1.00000000e+00 1.00800000e+03 5.00000000e+00 9.00000000e+00\n",
      "  8.35892513e+05]\n",
      " ...\n",
      " [1.00000000e+00 1.00800000e+03 3.70000000e+01 9.00000000e+00\n",
      "  1.00829385e+08]\n",
      " [1.00000000e+00 1.00800000e+03 7.70000000e+01 1.10000000e+01\n",
      "  1.00831349e+08]\n",
      " [1.00000000e+00 1.00800000e+03 3.70000000e+01 9.00000000e+00\n",
      "  1.00831548e+08]]\n"
     ]
    }
   ],
   "source": [
    "print(list_event_string_noise[0][7])"
   ]
  },
  {
   "cell_type": "code",
   "execution_count": 56,
   "metadata": {
    "collapsed": true,
    "jupyter": {
     "outputs_hidden": true
    },
    "tags": []
   },
   "outputs": [
    {
     "name": "stdout",
     "output_type": "stream",
     "text": [
      "40\n",
      "80\n",
      "120\n",
      "160\n",
      "200\n",
      "240\n",
      "280\n",
      "320\n",
      "360\n",
      "400\n",
      "440\n",
      "480\n",
      "520\n",
      "560\n",
      "600\n",
      "640\n",
      "680\n",
      "720\n",
      "760\n",
      "800\n",
      "840\n",
      "880\n",
      "920\n",
      "960\n",
      "1000\n",
      "1040\n",
      "1080\n",
      "1120\n",
      "1160\n",
      "1200\n"
     ]
    }
   ],
   "source": [
    "noise_hit_distr_2, noise_total_hits_event_2=number_of_hits(list_event_string_noise, nanoseconds=1000, dom_column=2, pmt_column=3, time_column=4, dom_limit=2, pmt_hits=2)"
   ]
  },
  {
   "cell_type": "code",
   "execution_count": 57,
   "metadata": {
    "collapsed": true,
    "jupyter": {
     "outputs_hidden": true
    },
    "tags": []
   },
   "outputs": [
    {
     "name": "stdout",
     "output_type": "stream",
     "text": [
      "40\n",
      "80\n",
      "120\n",
      "160\n",
      "200\n",
      "240\n",
      "280\n",
      "320\n",
      "360\n",
      "400\n",
      "440\n",
      "480\n",
      "520\n",
      "560\n",
      "600\n",
      "640\n",
      "680\n",
      "720\n",
      "760\n",
      "800\n",
      "840\n",
      "880\n",
      "920\n",
      "960\n",
      "1000\n",
      "1040\n",
      "1080\n",
      "1120\n",
      "1160\n",
      "1200\n"
     ]
    }
   ],
   "source": [
    "noise_hit_distr_1, noise_total_hits_event_1=number_of_hits(list_event_string_noise, nanoseconds=1000, dom_column=2, pmt_column=3, time_column=4, dom_limit=2, pmt_hits=1)"
   ]
  },
  {
   "cell_type": "code",
   "execution_count": 61,
   "metadata": {},
   "outputs": [],
   "source": [
    "percent_hits_signal_1_pmt=[i/j for i, j in zip(signal_hit_distr_1, signal_total_hits_event_1)]"
   ]
  },
  {
   "cell_type": "code",
   "execution_count": 62,
   "metadata": {},
   "outputs": [],
   "source": [
    "percent_hits_signal_2_pmt=[i/j for i, j in zip(signal_hit_distr_2, signal_total_hits_event_2)]"
   ]
  },
  {
   "cell_type": "code",
   "execution_count": 64,
   "metadata": {},
   "outputs": [],
   "source": [
    "percent_hits_noise_1_pmt=[i/j for i, j in zip(noise_hit_distr_1, noise_total_hits_event_1)]"
   ]
  },
  {
   "cell_type": "code",
   "execution_count": 63,
   "metadata": {},
   "outputs": [],
   "source": [
    "percent_hits_noise_2_pmt=[i/j for i, j in zip(noise_hit_distr_2, noise_total_hits_event_2)]"
   ]
  },
  {
   "cell_type": "code",
   "execution_count": 66,
   "metadata": {},
   "outputs": [],
   "source": [
    "def check_this(list_1):\n",
    "    for element in list_1:\n",
    "        if element>1:\n",
    "            print(\"error\")"
   ]
  },
  {
   "cell_type": "code",
   "execution_count": null,
   "metadata": {},
   "outputs": [],
   "source": []
  },
  {
   "cell_type": "markdown",
   "metadata": {},
   "source": [
    "## Earlier Graphs for learning Numpy and Matplotlib\n",
    "\n",
    "Here I graphed, a LOT of the data for multiple hits on a single DOM and a single PMT on noise and signal data files."
   ]
  },
  {
   "cell_type": "code",
   "execution_count": 241,
   "metadata": {},
   "outputs": [],
   "source": [
    "def multiple_hit_dom(array):\n",
    "    mult_hits=[]\n",
    "    for first_dim in array:\n",
    "        temp_dom=0\n",
    "        prev_event=None\n",
    "        prev_str=None\n",
    "        prev_mod=None\n",
    "        for row in first_dim:\n",
    "            if (row[0]!=prev_event or row[1]!=prev_str or row[2]!=prev_mod):\n",
    "                #you're no longer working on the same DOM, so see if it had multiple hits, and if so add it to the sum.\n",
    "                if temp_dom>1:\n",
    "                    mult_hits.append(temp_dom)\n",
    "            \n",
    "                #prepare to compare the next hit to this DOM\n",
    "                prev_event=row[0]\n",
    "                prev_str=row[1]\n",
    "                prev_mod=row[2]\n",
    "                temp_dom=1\n",
    "            else:\n",
    "                #this hit is on the same DOM as the last one, so \n",
    "                temp_dom+=1\n",
    "        if temp_dom>1:\n",
    "                    mult_hits.append(temp_dom)\n",
    "    return mult_hits, sum(mult_hits)"
   ]
  },
  {
   "cell_type": "code",
   "execution_count": 242,
   "metadata": {},
   "outputs": [
    {
     "name": "stdout",
     "output_type": "stream",
     "text": [
      "73777194\n",
      "83798215\n",
      "0.8804148632521588\n"
     ]
    }
   ],
   "source": [
    "dom_physics_hits_list, dom_physics_hits=multiple_hit_dom(physics_array)\n",
    "print(dom_physics_hits)\n",
    "print(physics_length)\n",
    "print(dom_physics_hits/physics_length)\n"
   ]
  },
  {
   "cell_type": "code",
   "execution_count": 243,
   "metadata": {},
   "outputs": [
    {
     "name": "stdout",
     "output_type": "stream",
     "text": [
      "81410615\n",
      "81410615\n",
      "1.0\n"
     ]
    }
   ],
   "source": [
    "dom_noise_hits_list, dom_noise_hits=multiple_hit_dom(noise_array)\n",
    "print(dom_noise_hits)\n",
    "print(noise_length)\n",
    "print(dom_noise_hits/noise_length)"
   ]
  },
  {
   "cell_type": "code",
   "execution_count": 245,
   "metadata": {},
   "outputs": [],
   "source": [
    "def multiple_hit_pmt(array):\n",
    "    mult_hits=[]\n",
    "    temp_pmt=0\n",
    "    prev_event=None\n",
    "    prev_str=None\n",
    "    prev_mod=None\n",
    "    prev_pmt=None\n",
    "    for first_dim in array:\n",
    "        for row in first_dim:\n",
    "            if (row[0]!=prev_event or row[1]!=prev_str or row[2]!=prev_mod or row[3]!=prev_pmt):\n",
    "                #you're no longer working on the same DOM, so see if it had multiple hits, and if so add it to the sum.\n",
    "                if temp_pmt>1:\n",
    "                    mult_hits.append(temp_pmt)\n",
    "            \n",
    "                #prepare to compare the next hit to this DOM\n",
    "                prev_event=row[0]\n",
    "                prev_str=row[1]\n",
    "                prev_mod=row[2]\n",
    "                prev_pmt=row[3]\n",
    "                temp_pmt=1\n",
    "            else:\n",
    "                #this hit is on the same DOM as the last one, so \n",
    "                temp_pmt+=1\n",
    "        if temp_pmt>1:\n",
    "                    mult_hits.append(temp_pmt)\n",
    "    return mult_hits, sum(mult_hits)"
   ]
  },
  {
   "cell_type": "code",
   "execution_count": 246,
   "metadata": {},
   "outputs": [
    {
     "name": "stdout",
     "output_type": "stream",
     "text": [
      "66524308\n",
      "83798215\n",
      "0.7938630673696331\n"
     ]
    }
   ],
   "source": [
    "pmt_physics_hits_list, pmt_physics_hits=multiple_hit_pmt(physics_array)\n",
    "print(pmt_physics_hits)\n",
    "print(physics_length)\n",
    "print(pmt_physics_hits/physics_length)\n"
   ]
  },
  {
   "cell_type": "code",
   "execution_count": 247,
   "metadata": {},
   "outputs": [
    {
     "name": "stdout",
     "output_type": "stream",
     "text": [
      "81410587\n",
      "81410615\n",
      "0.999999656064507\n"
     ]
    }
   ],
   "source": [
    "pmt_noise_hits_list, pmt_noise_hits=multiple_hit_pmt(noise_array)\n",
    "print(pmt_noise_hits)\n",
    "print(noise_length)\n",
    "print(pmt_noise_hits/noise_length)\n"
   ]
  },
  {
   "cell_type": "code",
   "execution_count": 262,
   "metadata": {},
   "outputs": [
    {
     "data": {
      "image/png": "[encoded data removed]",
      "text/plain": [
       "<Figure size 640x480 with 1 Axes>"
      ]
     },
     "metadata": {},
     "output_type": "display_data"
    }
   ],
   "source": [
    "\n",
    "plt.hist(dom_physics_hits_list, edgecolor='black', log=True)\n",
    "plt.title(\"Physics Events: Multiple Hits per DOM\")\n",
    "plt.xlabel(\"Number of hits\")\n",
    "plt.ylabel(\"Number of DOMS\")\n",
    "plt.save(\"\n",
    "plt.show()"
   ]
  },
  {
   "cell_type": "code",
   "execution_count": 269,
   "metadata": {},
   "outputs": [
    {
     "data": {
      "image/png": "[encoded data removed]",
      "text/plain": [
       "<Figure size 640x480 with 1 Axes>"
      ]
     },
     "metadata": {},
     "output_type": "display_data"
    }
   ],
   "source": [
    "bins=range(0,1400, 50)\n",
    "plt.hist(dom_noise_hits_list, edgecolor='black', log=True)\n",
    "plt.title(\"Noise Events: Multiple Hits per DOM\")\n",
    "plt.xlabel(\"Number of hits\")\n",
    "plt.ylabel(\"Number of DOMS\")\n",
    "plt.show()"
   ]
  },
  {
   "cell_type": "code",
   "execution_count": 268,
   "metadata": {},
   "outputs": [
    {
     "data": {
      "image/png": "[encoded data removed]",
      "text/plain": [
       "<Figure size 640x480 with 1 Axes>"
      ]
     },
     "metadata": {},
     "output_type": "display_data"
    }
   ],
   "source": [
    "\n",
    "plt.hist(pmt_physics_hits_list, edgecolor='black', log=True)\n",
    "plt.title(\"Physics Events: Multiple Hits per PMT\")\n",
    "plt.xlabel(\"Number of hits\")\n",
    "plt.ylabel(\"Number of PMTs\")\n",
    "plt.show()"
   ]
  },
  {
   "cell_type": "code",
   "execution_count": 270,
   "metadata": {},
   "outputs": [
    {
     "data": {
      "image/png": "[encoded data removed]",
      "text/plain": [
       "<Figure size 640x480 with 1 Axes>"
      ]
     },
     "metadata": {},
     "output_type": "display_data"
    }
   ],
   "source": [
    "\n",
    "plt.hist(pmt_noise_hits_list, edgecolor='black', log=True)\n",
    "plt.title(\"Noise Events: Multiple Hits per PMT\")\n",
    "plt.xlabel(\"Number of hits\")\n",
    "plt.ylabel(\"Number of PMTs\")\n",
    "plt.show()"
   ]
  },
  {
   "cell_type": "markdown",
   "metadata": {},
   "source": [
    "## Make an example plot\n",
    "Now that we have stuff, let's plot something from it.\n",
    "\n",
    "I'll just be plotting the number of hits for each module first."
   ]
  },
  {
   "cell_type": "code",
   "execution_count": 130,
   "metadata": {},
   "outputs": [
    {
     "data": {
      "image/png": "[encoded data removed]",
      "text/plain": [
       "<Figure size 1000x400 with 2 Axes>"
      ]
     },
     "metadata": {},
     "output_type": "display_data"
    }
   ],
   "source": [
    "\n",
    "\n",
    "#---------------------------------------\n",
    "# Make a \"figure\" (the canvas that our image will go on)\n",
    "# and an \"axis\" (the specific area we want to draw in)\n",
    "#---------------------------------------\n",
    "fig, ax = plt.subplots(figsize=(10,4))\n",
    "\n",
    "#---------------------------------------\n",
    "# Choose the bins we want to use for plotting.\n",
    "#---------------------------------------\n",
    "string_bins = range(string.min(), string.max()+1)\n",
    "module_bins = range(module.min(), module.max()+1)\n",
    "\n",
    "#---------------------------------------\n",
    "# Plot a 2d histogram of string number and module number\n",
    "# using a colormap from matplotlib\n",
    "# https://matplotlib.org/stable/gallery/color/colormap_reference.html\n",
    "#\n",
    "# The \"LogNorm()\" here will put the colorbar on a log-scale, which\n",
    "# can make it a bit easier to read. Try uncommenting to see the plot\n",
    "# with a logarithmic colorbar scale.\n",
    "#---------------------------------------\n",
    "hist, xbins, ybins = np.histogram2d(string, module,\n",
    "                                    bins = (string_bins, module_bins))\n",
    "\n",
    "cmesh = ax.pcolormesh(xbins, ybins, hist.T,\n",
    "                      cmap = 'magma_r', # \"_r\" added to reverse the colormap\n",
    "                      #norm = LogNorm(),\n",
    "                      )\n",
    "\n",
    "#---------------------------------------\n",
    "# Add a colorbar\n",
    "#---------------------------------------\n",
    "plt.colorbar(cmesh, ax=ax)\n",
    "\n",
    "#---------------------------------------\n",
    "# And now add axis labels and make things\n",
    "# look like you actually care enough to\n",
    "# put some effort in.\n",
    "# I *strongly* encourage you to try commenting\n",
    "# and changing these to see what they do\n",
    "# and find a plotting style that you like.\n",
    "#---------------------------------------\n",
    "ax.set_xlabel(\"String number\", fontsize=14)\n",
    "ax.set_ylabel(\"Module number\", fontsize=14)\n",
    "ax.tick_params(labelsize=12)\n",
    "\n",
    "#---------------------------------------\n",
    "# Save it!\n",
    "#---------------------------------------\n",
    "plt.savefig(\"module_vs_string_hits.pdf\")"
   ]
  },
  {
   "cell_type": "markdown",
   "metadata": {},
   "source": [
    "## What do you need to do?\n",
    "\n",
    "This example reads out hits from a single file (in my case, \n",
    "from a signal neutrino file) and gives you access to the \n",
    "hit position and time for each hit. You should modify this\n",
    "script so that you can read both a physics and a noise file\n",
    "and get arrays for both separately. \n",
    "\n",
    "## Find cases where we have multiple hits on a single PMT\n",
    "Once you have those, then I want you to look for cases where\n",
    "you have multiple hits on a single module (ie, where the\n",
    "event, string, and module are all the same, but you have \n",
    "multiple hits). You can find these with simple python code in\n",
    "a `for` loop. Remember that our code earlier read each hit on\n",
    "a single PMT before moving to the next one, so you need that does\n",
    "\n",
    ">for each pulse:\n",
    ">\n",
    ">       for each other pulse\n",
    ">               if different string or different module or different pmt: stop\n",
    ">               else: do stuff\n",
    "\n",
    "How often do we see multiple hits on a single PMT in signal simulation\n",
    " (ie, what fraction of the total hits)?\n",
    "How often do we see multiple hits on a single PMT in noise simulation?\n",
    "Make histograms of the two so we can compare them.\n",
    "\n",
    "## How many hits are nearby?\n",
    "How far away (how many modules up or down the string) do you need to look\n",
    "in order to find the nearest hit in 1 microsecond? Note that the times we\n",
    "pulled from the i3 file are in nanoseconds. Calculate this for every hit\n",
    "in a single signal event. Do the same for a noise-only event. Make plots\n",
    "showing the distributions for physics and noise.\n",
    "\n",
    "Make the same calculation for the nearest hit in 100 nanoseconds. Do it\n",
    "again for 10 microseconds.\n",
    "\n",
    "Note: You can implement this using the lists we've already extracted or\n",
    "you can do this by modifying the i3file loop earlier (and only save the\n",
    "information you actually care about). Either can work, so try both to see\n",
    "what you're comfortable with and what feels more natural. Personally, I'd\n",
    "probably change the i3file loop."
   ]
  },
  {
   "cell_type": "markdown",
   "metadata": {},
   "source": [
    "## This is the code that determined which time and DOM limitations were the most useful\n",
    "\n",
    "Some of this code, like physics_hit_distribution is slow, and I made better but similar functions later"
   ]
  },
  {
   "cell_type": "code",
   "execution_count": 594,
   "metadata": {},
   "outputs": [],
   "source": [
    "def minimum_difference(input_list, input_value):\n",
    "    arr = np.asarray(input_list)\n",
    "    i = (np.abs(arr - input_value)).argmin()\n",
    "    difference=abs(arr[i]-input_value)\n",
    "    return difference"
   ]
  },
  {
   "cell_type": "code",
   "execution_count": 28,
   "metadata": {},
   "outputs": [],
   "source": [
    "#sort function\n",
    "def sort_array_time(input_array, column):\n",
    "    order = input_array[:, column].argsort()\n",
    "    sorted = np.take(input_array, order, 0)\n",
    "    return sorted"
   ]
  },
  {
   "cell_type": "code",
   "execution_count": 673,
   "metadata": {},
   "outputs": [],
   "source": [
    "#function takes array, nanosecond limitation, returns list of how far away the nearest hit on the same string is\n",
    "def physics_hit_distribution(array, nanoseconds):\n",
    "    list_distribution=[]\n",
    "    no_hits_nearby=0\n",
    "    \n",
    "    for first_dim in array:\n",
    "        for index, original_pulse in enumerate(first_dim):\n",
    "            temp=[]\n",
    "            og_string=original_pulse[1]\n",
    "            og_dom=original_pulse[2]\n",
    "            og_time=original_pulse[4]\n",
    "            \n",
    "            array2=np.delete(first_dim, index, axis=0)\n",
    "\n",
    "            for other_pulse in array2:\n",
    "                \n",
    "                oth_string=other_pulse[1]\n",
    "                oth_dom=other_pulse[2]\n",
    "                oth_time=other_pulse[4]\n",
    "                \n",
    "                if og_string==oth_string and (oth_time-og_time)>0 and (oth_time-og_time)<nanoseconds:\n",
    "                    temp.append(oth_dom) \n",
    "            \n",
    "            if temp==[]:\n",
    "                no_hits_nearby+=1\n",
    "            else:\n",
    "                list_distribution.append(minimum_difference(temp, og_dom))\n",
    "    return list_distribution, no_hits_nearby\n",
    "        \n"
   ]
  },
  {
   "cell_type": "code",
   "execution_count": 868,
   "metadata": {},
   "outputs": [],
   "source": [
    "#creating a different faster function to go through the enormous noise files\n",
    "def noise_hit_distribution(list_of_arrays, nanoseconds):\n",
    "    list_distribution=[]\n",
    "    no_hits_nearby=0\n",
    "    count=0\n",
    "    for array in list_of_arrays:\n",
    "        count+=1\n",
    "        if count%1000==0:\n",
    "            print(count)\n",
    "        array2=array\n",
    "        for pulse in array:\n",
    "            temp=[]\n",
    "            array2=np.delete(array2, 0, axis=0)\n",
    "            \n",
    "            i=0\n",
    "            while i<len(array2) and (array2[i,2]-pulse[2])<nanoseconds:\n",
    "                if pulse[1]!=array2[i,1]:\n",
    "                    temp.append(array2[i,1])\n",
    "                i+=1\n",
    "            \n",
    "            if temp==[]:\n",
    "                no_hits_nearby+=1\n",
    "            else:\n",
    "                list_distribution.append(minimum_difference(temp, pulse[1]))\n",
    "    return list_distribution, no_hits_nearby"
   ]
  },
  {
   "cell_type": "markdown",
   "metadata": {},
   "source": [
    "The functions are defined above, then take data below"
   ]
  },
  {
   "cell_type": "code",
   "execution_count": 862,
   "metadata": {},
   "outputs": [
    {
     "name": "stdout",
     "output_type": "stream",
     "text": [
      "100\n",
      "200\n",
      "300\n",
      "400\n",
      "500\n"
     ]
    }
   ],
   "source": [
    "\n",
    "physics_file = glob.glob(\"/i3store/users/gen2/22450/0000000-0000999/NuGen_NuMu_Gen2_LOM16_240m_0.i3.zst\")\n",
    "mult_physics_event, length_physics =get_data(physics_file, count=100)"
   ]
  },
  {
   "cell_type": "code",
   "execution_count": null,
   "metadata": {},
   "outputs": [],
   "source": [
    "noise_file= glob.glob(\"/i3store/users/gen2/22449/0000000-0000999/RandomNoise_Gen2_LOM16_240m_0.i3.zst\")\n",
    "single_noise_event, length_noise=get_data(noise_file, count=5)"
   ]
  },
  {
   "cell_type": "code",
   "execution_count": 863,
   "metadata": {},
   "outputs": [
    {
     "name": "stdout",
     "output_type": "stream",
     "text": [
      "[[[1.00000000e+00 1.00100000e+03 3.00000000e+00 3.00000000e+00\n",
      "   1.01283235e+06]\n",
      "  [1.00000000e+00 1.00100000e+03 5.00000000e+00 1.30000000e+01\n",
      "   1.02503579e+06]\n",
      "  [1.00000000e+00 1.00100000e+03 8.00000000e+00 0.00000000e+00\n",
      "   1.00206232e+06]\n",
      "  ...\n",
      "  [5.00000000e+02 6.10000000e+04 7.70000000e+01 9.00000000e+00\n",
      "   5.00010968e+08]\n",
      "  [5.00000000e+02 6.10000000e+04 7.70000000e+01 9.00000000e+00\n",
      "   5.00021030e+08]\n",
      "  [5.00000000e+02 6.10000000e+04 7.80000000e+01 4.00000000e+00\n",
      "   5.00016862e+08]]]\n"
     ]
    }
   ],
   "source": [
    "print(mult_physics_event)"
   ]
  },
  {
   "cell_type": "code",
   "execution_count": 675,
   "metadata": {},
   "outputs": [],
   "source": [
    "physics_hit_distribution_1000, no_hits_p1000=physics_hit_distribution(single_physics_event,1000)\n",
    "physics_hit_distribution_100, no_hits_p100=physics_hit_distribution(single_physics_event, 100)\n",
    "physics_hit_distribution_10000, no_hits_p10000=physics_hit_distribution(single_physics_event,10000)\n"
   ]
  },
  {
   "cell_type": "code",
   "execution_count": 874,
   "metadata": {},
   "outputs": [
    {
     "data": {
      "image/png": "[encoded data removed]",
      "text/plain": [
       "<Figure size 700x1500 with 3 Axes>"
      ]
     },
     "metadata": {},
     "output_type": "display_data"
    }
   ],
   "source": [
    "bins=range(0, 81,10)\n",
    "\n",
    "fig, (ax0, ax1, ax2)=plt.subplots(3,1, figsize=(7,15))\n",
    "#plot 1, physics, 100 ns\n",
    "ax0.hist(physics_hit_distribution_100, bins=bins, edgecolor=\"black\", log=True)\n",
    "ax0.axhline(no_hits_p100, color=\"red\", label=\"No Nearby Hits\")\n",
    "ax0.set_title(\"100 ns Time Window\")\n",
    "ax0.set_xlabel(\"How Many DOMS away the Nearest Hit Is\")\n",
    "ax0.set_ylabel(\"Number of DOMs\")\n",
    "ax0.legend()\n",
    "ax0.set_ylim(bottom=1)\n",
    "\n",
    "#plot 2 physics 1microsecond\n",
    "ax1.hist(physics_hit_distribution_1000, bins=bins, edgecolor=\"black\", log=True)\n",
    "ax1.axhline(no_hits_p1000, color=\"red\", label=\"No Nearby Hits\")\n",
    "ax1.set_title(\"1 ms Time Window\")\n",
    "ax1.set_xlabel(\"How Many DOMS away the Nearest Hit Is\")\n",
    "ax1.set_ylabel(\"Number of DOMs\")\n",
    "ax1.legend()\n",
    "ax1.set_ylim(bottom=1)\n",
    "\n",
    "#plot 3 physics 10 microsecond\n",
    "ax2.hist(physics_hit_distribution_10000, bins=bins, edgecolor=\"black\", log=True)\n",
    "ax2.axhline(no_hits_p10000, color=\"red\", label=\"No Nearby Hits\")\n",
    "ax2.set_title(\"10 ms Time Window\")\n",
    "ax2.set_xlabel(\"How Many DOMS away the Nearest Hit Is\")\n",
    "ax2.set_ylabel(\"Number of DOMs\")\n",
    "ax2.legend()\n",
    "ax2.set_ylim(bottom=1)\n",
    "\n",
    "fig.suptitle(\"Physics\")\n",
    "fig.savefig('physics_timing_graphs.png')\n",
    "fig.show()\n"
   ]
  },
  {
   "cell_type": "code",
   "execution_count": 869,
   "metadata": {
    "collapsed": true,
    "jupyter": {
     "outputs_hidden": true
    },
    "tags": []
   },
   "outputs": [
    {
     "name": "stdout",
     "output_type": "stream",
     "text": [
      "1000\n",
      "2000\n",
      "3000\n",
      "4000\n",
      "5000\n",
      "6000\n",
      "7000\n",
      "8000\n",
      "9000\n",
      "10000\n",
      "11000\n",
      "12000\n",
      "13000\n",
      "14000\n",
      "15000\n",
      "16000\n",
      "17000\n",
      "18000\n",
      "19000\n",
      "20000\n",
      "21000\n",
      "22000\n",
      "23000\n",
      "24000\n",
      "25000\n",
      "26000\n",
      "27000\n",
      "28000\n",
      "29000\n",
      "30000\n",
      "31000\n",
      "32000\n",
      "33000\n",
      "34000\n",
      "35000\n",
      "36000\n",
      "37000\n",
      "38000\n",
      "39000\n",
      "40000\n",
      "41000\n",
      "42000\n",
      "43000\n",
      "44000\n",
      "45000\n",
      "46000\n",
      "47000\n",
      "48000\n",
      "49000\n",
      "50000\n",
      "51000\n",
      "52000\n",
      "53000\n",
      "54000\n",
      "55000\n",
      "56000\n",
      "57000\n",
      "58000\n",
      "59000\n",
      "60000\n",
      "1000 finished\n",
      "1000\n",
      "2000\n",
      "3000\n",
      "4000\n",
      "5000\n",
      "6000\n",
      "7000\n",
      "8000\n",
      "9000\n",
      "10000\n",
      "11000\n",
      "12000\n",
      "13000\n",
      "14000\n",
      "15000\n",
      "16000\n",
      "17000\n",
      "18000\n",
      "19000\n",
      "20000\n",
      "21000\n",
      "22000\n",
      "23000\n",
      "24000\n",
      "25000\n",
      "26000\n",
      "27000\n",
      "28000\n",
      "29000\n",
      "30000\n",
      "31000\n",
      "32000\n",
      "33000\n",
      "34000\n",
      "35000\n",
      "36000\n",
      "37000\n",
      "38000\n",
      "39000\n",
      "40000\n",
      "41000\n",
      "42000\n",
      "43000\n",
      "44000\n",
      "45000\n",
      "46000\n",
      "47000\n",
      "48000\n",
      "49000\n",
      "50000\n",
      "51000\n",
      "52000\n",
      "53000\n",
      "54000\n",
      "55000\n",
      "56000\n",
      "57000\n",
      "58000\n",
      "59000\n",
      "60000\n",
      "100 finished\n",
      "1000\n",
      "2000\n",
      "3000\n",
      "4000\n",
      "5000\n",
      "6000\n",
      "7000\n",
      "8000\n",
      "9000\n",
      "10000\n",
      "11000\n",
      "12000\n",
      "13000\n",
      "14000\n",
      "15000\n",
      "16000\n",
      "17000\n",
      "18000\n",
      "19000\n",
      "20000\n",
      "21000\n",
      "22000\n",
      "23000\n",
      "24000\n",
      "25000\n",
      "26000\n",
      "27000\n",
      "28000\n",
      "29000\n",
      "30000\n",
      "31000\n",
      "32000\n",
      "33000\n",
      "34000\n",
      "35000\n",
      "36000\n",
      "37000\n",
      "38000\n",
      "39000\n",
      "40000\n",
      "41000\n",
      "42000\n",
      "43000\n",
      "44000\n",
      "45000\n",
      "46000\n",
      "47000\n",
      "48000\n",
      "49000\n",
      "50000\n",
      "51000\n",
      "52000\n",
      "53000\n",
      "54000\n",
      "55000\n",
      "56000\n",
      "57000\n",
      "58000\n",
      "59000\n",
      "60000\n",
      "10000 finished\n"
     ]
    }
   ],
   "source": [
    "physics_hit_distribution_1000, no_hits_p1000=noise_hit_distribution(list_of_physics_arrays,1000)\n",
    "print(\"1000 finished\")\n",
    "physics_hit_distribution_100, no_hits_p100=noise_hit_distribution(list_of_physics_arrays, 100)\n",
    "print(\"100 finished\")\n",
    "physics_hit_distribution_10000, no_hits_p10000=noise_hit_distribution(list_of_physics_arrays,10000)\n",
    "print(\"10000 finished\")"
   ]
  },
  {
   "cell_type": "code",
   "execution_count": 681,
   "metadata": {},
   "outputs": [
    {
     "data": {
      "image/png": "[encoded data removed]",
      "text/plain": [
       "<Figure size 640x480 with 3 Axes>"
      ]
     },
     "metadata": {},
     "output_type": "display_data"
    }
   ],
   "source": [
    "#plot 1, physics, 100 ns\n",
    "plt.subplot(3, 1, 1)\n",
    "plt.hist(physics_hit_distribution_100, edgecolor=\"black\", log=True)\n",
    "plt.axhline(no_hits_p100, color=\"red\", label=\"No Nearby Hits\")\n",
    "plt.title(\"Physics Event w 100 ns Time Window\")\n",
    "plt.legend()\n",
    "plt.tight_layout()\n",
    "\n",
    "#plot 2 physics 1microsecond\n",
    "plt.subplot(3, 1, 2)\n",
    "plt.hist(physics_hit_distribution_1000, edgecolor=\"black\", log=True)\n",
    "plt.axhline(no_hits_p1000, color=\"red\", label=\"No Nearby Hits\")\n",
    "plt.title(\"Physics Event w 1 micros Time Window\")\n",
    "plt.legend()\n",
    "plt.tight_layout()\n",
    "\n",
    "#plot 3 physics 10 microsecond\n",
    "plt.subplot(3, 1, 3)\n",
    "plt.hist(physics_hit_distribution_10000, edgecolor=\"black\", log=True)\n",
    "plt.axhline(no_hits_p10000, color=\"red\", label=\"No Nearby Hits\")\n",
    "plt.title(\"Physics Event w 10 ms Time Window\")\n",
    "plt.legend()\n",
    "plt.tight_layout()\n",
    "\n",
    "plt.show()"
   ]
  },
  {
   "cell_type": "markdown",
   "metadata": {},
   "source": [
    "Noise is going to be a lot longer, so to save processing time I'm reshaping the array, getting rid of unnecessary data, splitting it by string, then sorting those arrays by time."
   ]
  },
  {
   "cell_type": "code",
   "execution_count": 682,
   "metadata": {},
   "outputs": [],
   "source": [
    "#Reshaping, then deleting unnecessary data\n",
    "shape_noise=np.shape(single_noise_event)\n",
    "new_shape_noise=np.delete(shape_noise,0)\n",
    "better_event_noise=np.reshape(single_noise_event,new_shape_noise)\n",
    "better_event_1_noise=np.delete(better_event_noise,[0, 3], axis=1)"
   ]
  },
  {
   "cell_type": "code",
   "execution_count": 683,
   "metadata": {},
   "outputs": [],
   "source": [
    "#indexing in order to split by string\n",
    "strings_noise=better_event_1_noise[:,1].tolist()\n",
    "index_noise=[]\n",
    "sum_noise=0\n",
    "for string_noise in range(1001, 1120):\n",
    "    sum_noise+=strings_noise.count(string_noise)\n",
    "    index_noise.append(sum_noise)    "
   ]
  },
  {
   "cell_type": "code",
   "execution_count": 684,
   "metadata": {},
   "outputs": [],
   "source": [
    "#creating a list of arrays, each of them is a single string\n",
    "list_of_noise_arrays=np.split(better_event_1_noise,index_noise)\n"
   ]
  },
  {
   "cell_type": "code",
   "execution_count": 685,
   "metadata": {
    "collapsed": true,
    "jupyter": {
     "outputs_hidden": true
    },
    "tags": []
   },
   "outputs": [
    {
     "name": "stdout",
     "output_type": "stream",
     "text": [
      "[[1.00100000e+03 3.40000000e+01 8.36513551e+05]\n",
      " [1.00100000e+03 3.40000000e+01 8.36600964e+05]\n",
      " [1.00100000e+03 3.40000000e+01 8.37217585e+05]\n",
      " [1.00100000e+03 7.60000000e+01 8.37290835e+05]\n",
      " [1.00100000e+03 3.40000000e+01 8.37753555e+05]\n",
      " [1.00100000e+03 3.40000000e+01 8.39429862e+05]\n",
      " [1.00100000e+03 3.40000000e+01 8.39596962e+05]\n",
      " [1.00100000e+03 3.40000000e+01 8.40027242e+05]\n",
      " [1.00100000e+03 3.40000000e+01 8.41883357e+05]\n",
      " [1.00100000e+03 2.00000000e+00 8.42982917e+05]\n",
      " [1.00100000e+03 2.00000000e+00 8.45376054e+05]\n",
      " [1.00100000e+03 2.70000000e+01 8.45916806e+05]\n",
      " [1.00100000e+03 2.00000000e+00 8.46315742e+05]\n",
      " [1.00100000e+03 2.70000000e+01 8.48376447e+05]\n",
      " [1.00100000e+03 2.00000000e+00 8.51443357e+05]]\n"
     ]
    }
   ],
   "source": [
    "#sorting the arrays by time\n",
    "for index1, array1 in enumerate(list_of_noise_arrays):\n",
    "    list_of_noise_arrays[index1]=sort_array_time(array1, 2)\n",
    "\n",
    "print(list_of_noise_arrays[0][0:15])"
   ]
  },
  {
   "cell_type": "code",
   "execution_count": 864,
   "metadata": {
    "tags": []
   },
   "outputs": [],
   "source": [
    "shape_physics=np.shape(mult_physics_event)\n",
    "new_shape_physics=np.delete(shape_physics,0)\n",
    "better_physics_event=np.reshape(mult_physics_event, new_shape_physics)\n",
    "better_physics_event_1=np.delete(better_physics_event,[0, 3], axis=1)"
   ]
  },
  {
   "cell_type": "code",
   "execution_count": 867,
   "metadata": {
    "collapsed": true,
    "jupyter": {
     "outputs_hidden": true
    },
    "tags": []
   },
   "outputs": [
    {
     "name": "stdout",
     "output_type": "stream",
     "text": [
      "0\n",
      "1000\n",
      "2000\n",
      "3000\n",
      "4000\n",
      "5000\n",
      "6000\n",
      "7000\n",
      "8000\n",
      "9000\n",
      "10000\n",
      "11000\n",
      "12000\n",
      "13000\n",
      "14000\n",
      "15000\n",
      "16000\n",
      "17000\n",
      "18000\n",
      "19000\n",
      "20000\n",
      "21000\n",
      "22000\n",
      "23000\n",
      "24000\n",
      "25000\n",
      "26000\n",
      "27000\n",
      "28000\n",
      "29000\n",
      "30000\n",
      "31000\n",
      "32000\n",
      "33000\n",
      "34000\n",
      "35000\n",
      "36000\n",
      "37000\n",
      "38000\n",
      "39000\n",
      "40000\n",
      "41000\n",
      "42000\n",
      "43000\n",
      "44000\n",
      "45000\n",
      "46000\n",
      "47000\n",
      "48000\n",
      "49000\n",
      "50000\n",
      "51000\n",
      "52000\n",
      "53000\n",
      "54000\n",
      "55000\n",
      "56000\n",
      "57000\n",
      "58000\n",
      "59000\n",
      "[[1.00100000e+03 4.20000000e+01 1.00084263e+06]\n",
      " [1.00100000e+03 4.20000000e+01 1.00085808e+06]\n",
      " [1.00100000e+03 4.20000000e+01 1.00086646e+06]\n",
      " [1.00100000e+03 4.20000000e+01 1.00088119e+06]\n",
      " [1.00100000e+03 4.20000000e+01 1.00089026e+06]\n",
      " [1.00100000e+03 4.20000000e+01 1.00090060e+06]\n",
      " [1.00100000e+03 4.20000000e+01 1.00091394e+06]\n",
      " [1.00100000e+03 4.20000000e+01 1.00092917e+06]\n",
      " [1.00100000e+03 4.20000000e+01 1.00099372e+06]\n",
      " [1.00100000e+03 4.20000000e+01 1.00109404e+06]\n",
      " [1.00100000e+03 4.20000000e+01 1.00139509e+06]\n",
      " [1.00100000e+03 4.20000000e+01 1.00180812e+06]\n",
      " [1.00100000e+03 4.20000000e+01 1.00191765e+06]\n",
      " [1.00100000e+03 8.00000000e+00 1.00206232e+06]\n",
      " [1.00100000e+03 8.00000000e+00 1.00253621e+06]\n",
      " [1.00100000e+03 8.00000000e+00 1.00277880e+06]\n",
      " [1.00100000e+03 1.20000000e+01 1.00278082e+06]\n",
      " [1.00100000e+03 8.00000000e+00 1.00554934e+06]\n",
      " [1.00100000e+03 4.20000000e+01 1.00699319e+06]\n",
      " [1.00100000e+03 1.20000000e+01 1.00834527e+06]\n",
      " [1.00100000e+03 4.20000000e+01 1.00912971e+06]\n",
      " [1.00100000e+03 1.20000000e+01 1.00950632e+06]\n",
      " [1.00100000e+03 8.00000000e+00 1.01014198e+06]\n",
      " [1.00100000e+03 8.00000000e+00 1.01079912e+06]\n",
      " [1.00100000e+03 3.00000000e+00 1.01283235e+06]\n",
      " [1.00100000e+03 8.00000000e+00 1.01754943e+06]\n",
      " [1.00100000e+03 1.60000000e+01 1.01997109e+06]\n",
      " [1.00100000e+03 5.00000000e+00 1.02503579e+06]]\n"
     ]
    }
   ],
   "source": [
    "#indexing in order to split by string\n",
    "strings_physics=better_physics_event_1[:,0].tolist()\n",
    "index_physics=[]\n",
    "sum_physics=0\n",
    "count=0\n",
    "for string_physics in range(1001, 61000):\n",
    "    if count%1000==0:\n",
    "        print(count)\n",
    "    count+=1\n",
    "    sum_physics+=strings_physics.count(string_physics)\n",
    "    index_physics.append(sum_physics)\n",
    "\n",
    "#creating a list of arrays, each of them is a single string\n",
    "list_of_physics_arrays=np.split(better_physics_event_1,index_physics)\n",
    "\n",
    "#sorting the arrays by time\n",
    "for index, array in enumerate(list_of_physics_arrays):\n",
    "    list_of_physics_arrays[index]=sort_array_time(array, 2)\n",
    "    \n",
    "print(list_of_physics_arrays[0])"
   ]
  },
  {
   "cell_type": "code",
   "execution_count": 697,
   "metadata": {},
   "outputs": [
    {
     "name": "stdout",
     "output_type": "stream",
     "text": [
      "1000 finished\n",
      "100 finished\n",
      "10000 finished\n"
     ]
    }
   ],
   "source": [
    "noise_hit_distribution_1000, no_hits_n1000=noise_hit_distribution(list_of_arrays,1000)\n",
    "print(\"1000 finished\")\n",
    "noise_hit_distribution_100, no_hits_n100=noise_hit_distribution(list_of_arrays, 100)\n",
    "print(\"100 finished\")\n",
    "noise_hit_distribution_10000, no_hits_n10000=noise_hit_distribution(list_of_arrays,10000)\n",
    "print(\"10000 finished\")"
   ]
  },
  {
   "cell_type": "code",
   "execution_count": 698,
   "metadata": {},
   "outputs": [],
   "source": [
    "time_noise=noise_time_sort[-1]-noise_time_sort[0]\n",
    "time_phys=physics_time_sort[-1]-physics_time_sort[0]"
   ]
  },
  {
   "cell_type": "code",
   "execution_count": 702,
   "metadata": {
    "tags": []
   },
   "outputs": [
    {
     "data": {
      "image/png": "[encoded data removed]",
      "text/plain": [
       "<Figure size 700x1500 with 3 Axes>"
      ]
     },
     "metadata": {},
     "output_type": "display_data"
    }
   ],
   "source": [
    "bins=range(0, 81,10)\n",
    "weight=time_phys/time_noise\n",
    "weights=[weight]*len(noise_hit_distribution_100)\n",
    "fig, (ax0, ax1, ax2)=plt.subplots(3,1, figsize=(7,15))\n",
    "#plot 1, physics, 100 ns\n",
    "ax0.hist(noise_hit_distribution_100, bins=bins, weights=weights, edgecolor=\"black\", log=True)\n",
    "ax0.axhline(no_hits_n100*weight, color=\"red\", label=\"No Nearby Hits\")\n",
    "ax0.set_title(\"100 ns Time Window\")\n",
    "ax0.set_xlabel(\"How Many DOMS away the Nearest Hit Is\")\n",
    "ax0.set_ylabel(\"Number of DOMs\")\n",
    "ax0.legend()\n",
    "ax0.set_ylim(bottom=1)\n",
    "\n",
    "#plot 2 physics 1microsecond\n",
    "weights=[weight]*len(noise_hit_distribution_1000)\n",
    "ax1.hist(noise_hit_distribution_1000, bins=bins, weights=weights, edgecolor=\"black\", log=True)\n",
    "ax1.axhline(no_hits_n1000*weight, color=\"red\", label=\"No Nearby Hits\")\n",
    "ax1.set_title(\"1 ms Time Window\")\n",
    "ax1.set_xlabel(\"How Many DOMS away the Nearest Hit Is\")\n",
    "ax1.set_ylabel(\"Number of DOMs\")\n",
    "ax1.legend()\n",
    "ax1.set_ylim(bottom=1)\n",
    "\n",
    "#plot 3 physics 10 microsecond\n",
    "weights=[weight]*len(noise_hit_distribution_10000)\n",
    "ax2.hist(noise_hit_distribution_10000, bins=bins, weights=weights, edgecolor=\"black\", log=True)\n",
    "ax2.axhline(no_hits_n10000*weight, color=\"red\", label=\"No Nearby Hits\")\n",
    "ax2.set_title(\"10 ms Time Window\")\n",
    "ax2.set_xlabel(\"How Many DOMS away the Nearest Hit Is\")\n",
    "ax2.set_ylabel(\"Number of DOMs\")\n",
    "ax2.legend()\n",
    "ax2.set_ylim(bottom=1)\n",
    "\n",
    "fig.suptitle(\"Noise\")\n",
    "fig.savefig('noise_timing_graphs.png')\n",
    "fig.show()\n"
   ]
  },
  {
   "cell_type": "code",
   "execution_count": 1513,
   "metadata": {
    "tags": []
   },
   "outputs": [
    {
     "data": {
      "image/png": "[encoded data removed]",
      "text/plain": [
       "<Figure size 2100x700 with 3 Axes>"
      ]
     },
     "metadata": {},
     "output_type": "display_data"
    }
   ],
   "source": [
    "fig, (ax0, ax1, ax2)=plt.subplots(1,3, figsize=(21,7))\n",
    "bins=np.arange(11)-0.5\n",
    "#colors=[\"blue\",\"orange\"]\n",
    "total_noise_100=len(noise_hit_distribution_100)+no_hits_n100\n",
    "total_phys_100=len(physics_hit_distribution_100)+no_hits_p100\n",
    "weight=1\n",
    "weight1=np.ones(len(noise_hit_distribution_100))*weight/total_noise_100\n",
    "weight2=np.ones(len(physics_hit_distribution_100))/total_phys_100\n",
    "counts_100_ns, bin_100, patches_100=ax0.hist([noise_hit_distribution_100, physics_hit_distribution_100], bins=bins, weights=[weight1, weight2],\n",
    "         label=[\"noise\",\"physics+noise\"], edgecolor=\"black\", cumulative=True)\n",
    "ax0.axhline(no_hits_n100/total_noise_100, color=\"red\", label=\"Noise:No Nearby Hits\")\n",
    "ax0.axhline(no_hits_p100/total_phys_100, color=\"orange\", label=\"Physics:No Nearby Hits\")\n",
    "plt.sca(ax0)\n",
    "plt.xticks(range(0,21), rotation=90)\n",
    "ax0.set_title(\"100 ns Time Window\")\n",
    "ax0.set_xlabel(\"Maximum number of DOMS away the Nearest Hit Is\")\n",
    "ax0.set_ylabel(\"Percent of Hits\")\n",
    "ax0.set_ylim(bottom=0, top =1)\n",
    "ax0.set_xlim(left=0, right=10)\n",
    "plt.legend(loc='upper center', ncol=2, framealpha=1)\n",
    "\n",
    "\n",
    "total_noise_1000=len(noise_hit_distribution_1000)+no_hits_n1000\n",
    "total_phys_1000=len(physics_hit_distribution_1000)+no_hits_p1000\n",
    "weight1=np.ones(len(noise_hit_distribution_1000))*weight/total_noise_1000\n",
    "weight2=np.ones(len(physics_hit_distribution_1000))/total_phys_1000\n",
    "counts_1000_ns, bin_1000, patches_1000=ax1.hist([noise_hit_distribution_1000, physics_hit_distribution_1000], bins=bins, weights=[weight1, weight2],\n",
    "         label=[\"noise\",\"physics+noise\"], edgecolor=\"black\", cumulative=True)\n",
    "ax1.axhline(no_hits_n1000/total_noise_1000, color=\"red\", label=\"Noise:No Nearby Hits\")\n",
    "ax1.axhline(no_hits_p1000/total_phys_1000, color=\"orange\", label=\"Physics:No Nearby Hits\")\n",
    "plt.sca(ax1)\n",
    "plt.xticks(range(0,21), rotation=90)\n",
    "ax1.set_title(\"1000 ns Time Window\")\n",
    "ax1.set_xlabel(\"Maximum number of DOMS away the Nearest Hit Is\")\n",
    "ax1.set_ylabel(\"Percent of Hits\")\n",
    "ax1.set_ylim(bottom=0, top=1)\n",
    "ax1.set_xlim(left=0, right=10)\n",
    "plt.legend(loc='upper center', ncol=2, framealpha=1)\n",
    "\n",
    "\n",
    "total_noise_10000=len(noise_hit_distribution_10000)+no_hits_n10000\n",
    "total_phys_10000=len(physics_hit_distribution_10000)+no_hits_p10000\n",
    "weight1=np.ones(len(noise_hit_distribution_10000))*weight/total_noise_10000\n",
    "weight2=np.ones(len(physics_hit_distribution_10000))/total_phys_10000\n",
    "counts_10000_ns, bin_10000, patches_10000=ax2.hist([noise_hit_distribution_10000, physics_hit_distribution_10000], bins=bins, weights=[weight1, weight2],\n",
    "         label=[\"noise\",\"physics+noise\"], edgecolor=\"black\", cumulative=True)\n",
    "ax2.axhline(no_hits_n10000/total_noise_10000, color=\"red\", label=\"Noise:No Nearby Hits\")\n",
    "ax2.axhline(no_hits_p10000/total_phys_1000, color=\"orange\", label=\"Physics:No Nearby Hits\")\n",
    "plt.sca(ax2)\n",
    "plt.xticks(range(0,21), rotation=90)\n",
    "ax2.set_title(\"10000 ns Time Window\")\n",
    "ax2.set_xlabel(\"Maximum number of DOMS away the Nearest Hit Is\")\n",
    "ax2.set_ylabel(\"Percent of Hits\")\n",
    "ax2.set_ylim(bottom=0, top=1)\n",
    "ax2.set_xlim(left=0, right=10)\n",
    "plt.legend(loc='upper center', ncol=2, framealpha=1)\n",
    "\n",
    "fig.suptitle(\"Percent Noise vs Physics\")\n",
    "fig.savefig('percent_noise_physics.png')\n",
    "fig.show()"
   ]
  },
  {
   "cell_type": "code",
   "execution_count": 1514,
   "metadata": {},
   "outputs": [
    {
     "name": "stdout",
     "output_type": "stream",
     "text": [
      "1678606\n"
     ]
    }
   ],
   "source": [
    "print(total_phys_1000)"
   ]
  },
  {
   "cell_type": "code",
   "execution_count": 1491,
   "metadata": {},
   "outputs": [
    {
     "name": "stdout",
     "output_type": "stream",
     "text": [
      "0.39419375362636005\n"
     ]
    }
   ],
   "source": [
    "print(y_1000[2])\n",
    "\n"
   ]
  },
  {
   "cell_type": "code",
   "execution_count": 1490,
   "metadata": {},
   "outputs": [
    {
     "data": {
      "image/png": "[encoded data removed]",
      "text/plain": [
       "<Figure size 640x480 with 1 Axes>"
      ]
     },
     "metadata": {},
     "output_type": "display_data"
    }
   ],
   "source": [
    "x_100=counts_100_ns[0]\n",
    "y_100=counts_100_ns[1]\n",
    "x_1000=counts_1000_ns[0]\n",
    "y_1000=counts_1000_ns[1]\n",
    "x_10000=counts_10000_ns[0]\n",
    "y_10000=counts_10000_ns[1]\n",
    "plt.scatter(x_100,y_100, label=\"100 ns Timewindow\", s=100)\n",
    "plt.scatter(x_1000,y_1000, c=\"r\", marker=\"^\", label=\"1000 ns Timewindow\", s=100)\n",
    "plt.scatter(x_10000,y_10000, c=\"orange\", marker=\"*\", label=\"10000 ns Timewindow\", s=200)\n",
    "plt.ylim(bottom=0.3)\n",
    "plt.legend()\n",
    "plt.xlabel(\"Noise Percentage\")\n",
    "plt.ylabel(\"Physics+Noise Percentage\")\n",
    "\n",
    "plt.title(\"ROC plot\")\n",
    "plt.savefig('ROCplot.png')\n",
    "plt.show()"
   ]
  },
  {
   "cell_type": "code",
   "execution_count": 891,
   "metadata": {},
   "outputs": [],
   "source": [
    "def find_min(x_list,y_list):\n",
    "    temp=[]\n",
    "    for x, y in zip(x_list, y_list):\n",
    "        rate=(1-y)+x\n",
    "        temp.append(rate)\n",
    "    minimum=min(temp)\n",
    "    i=temp.index(minimum)\n",
    "    return i"
   ]
  },
  {
   "cell_type": "code",
   "execution_count": 1383,
   "metadata": {},
   "outputs": [
    {
     "name": "stdout",
     "output_type": "stream",
     "text": [
      "2\n"
     ]
    }
   ],
   "source": [
    "index=find_min(x_1000, y_1000)\n",
    "print(index)"
   ]
  },
  {
   "cell_type": "code",
   "execution_count": 911,
   "metadata": {},
   "outputs": [
    {
     "name": "stdout",
     "output_type": "stream",
     "text": [
      "0.5226278563153309\n",
      "0.3854675345203841\n"
     ]
    },
    {
     "data": {
      "image/png": "[encoded data removed]",
      "text/plain": [
       "<Figure size 640x480 with 1 Axes>"
      ]
     },
     "metadata": {},
     "output_type": "display_data"
    }
   ],
   "source": [
    "x_10000=np.delete(x_10000,0)\n",
    "y_10000=np.delete(y_10000,0)\n",
    "a,b=np.polyfit(x_10000, y_10000,1)\n",
    "print(a)\n",
    "print(b)\n",
    "x=np.arange(0, 1, 0.1)\n",
    "y=a*x+b\n",
    "plt.plot(x, y)\n",
    "plt.scatter(x_100,y_100, label=\"100 ns Timewindow\", s=100)\n",
    "plt.scatter(x_1000,y_1000, c=\"r\", marker=\"^\", label=\"1000 ns Timewindow\", s=100)\n",
    "plt.scatter(x_10000,y_10000, c=\"orange\", marker=\"*\", label=\"10000 ns Timewindow\", s=200)\n",
    "plt.ylim(bottom=0.3)\n",
    "plt.show()"
   ]
  },
  {
   "cell_type": "code",
   "execution_count": 650,
   "metadata": {
    "tags": []
   },
   "outputs": [
    {
     "name": "stdout",
     "output_type": "stream",
     "text": [
      "[ 1386865.09401626  7625877.86851936  7629239.04687483 ...\n",
      " 86755134.73813468 92003470.41296223 95537044.53607038]\n",
      "[1012832.35094643 1025035.79211684 1002062.31992288 ... 1009035.85958129\n",
      " 1003762.23211215 1003844.23794664]\n"
     ]
    }
   ],
   "source": [
    "noise_event=fix_shape(single_noise_event)[:,4]\n",
    "physics_event=fix_shape(mult_physics_event)[:,4]\n",
    "print(noise_event)\n",
    "print(physics_event)"
   ]
  },
  {
   "cell_type": "code",
   "execution_count": 644,
   "metadata": {},
   "outputs": [],
   "source": [
    "def fix_shape(array):\n",
    "    shape=np.shape(array)\n",
    "    new_shape=np.delete(shape,0)\n",
    "    fixed_dim=np.reshape(array,new_shape)\n",
    "    return fixed_dim"
   ]
  },
  {
   "cell_type": "code",
   "execution_count": null,
   "metadata": {},
   "outputs": [
    {
     "name": "stdout",
     "output_type": "stream",
     "text": [
      "[8.33754650e+05 8.33757039e+05 8.33761824e+05 ... 1.00844853e+08\n",
      " 1.00853427e+08 1.00853758e+08]\n",
      "[ 997048.29983142  997049.91872955  997079.80436085 ... 1040630.9899102\n",
      " 1045256.25591986 1047064.33035679]\n"
     ]
    }
   ],
   "source": [
    "noise_time_sort=np.sort(noise_event)\n",
    "physics_time_sort=np.sort(physics_event)\n",
    "\n",
    "print(noise_time_sort)\n",
    "print(physics_time_sort)"
   ]
  },
  {
   "cell_type": "code",
   "execution_count": null,
   "metadata": {},
   "outputs": [],
   "source": [
    "#Scale these"
   ]
  },
  {
   "cell_type": "code",
   "execution_count": null,
   "metadata": {},
   "outputs": [
    {
     "name": "stdout",
     "output_type": "stream",
     "text": [
      "0.2044344561652858\n"
     ]
    }
   ],
   "source": [
    "time=physics_time_sort[-1]-physics_time_sort[0]\n",
    "print(len(physics_time_sort)/time)"
   ]
  }
 ],
 "metadata": {
  "kernelspec": {
   "display_name": "Python 3 (ipykernel)",
   "language": "python",
   "name": "python3"
  },
  "language_info": {
   "codemirror_mode": {
    "name": "ipython",
    "version": 3
   },
   "file_extension": ".py",
   "mimetype": "text/x-python",
   "name": "python",
   "nbconvert_exporter": "python",
   "pygments_lexer": "ipython3",
   "version": "3.8.10"
  }
 },
 "nbformat": 4,
 "nbformat_minor": 4
}
